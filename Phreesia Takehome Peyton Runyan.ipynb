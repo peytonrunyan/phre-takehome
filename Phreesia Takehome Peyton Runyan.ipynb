{
 "cells": [
  {
   "cell_type": "markdown",
   "metadata": {},
   "source": [
    "# Goal\n",
    "\n",
    "### Predict the length of stay of a patient upon admission.\n",
    "\n",
    "# Key Questions\n",
    "\n",
    "### Concepts\n",
    "* <b>Which ML model would you use to tackle that problem?</b>\n",
    "\n",
    "I initially used the xgboost regressor. Gradient boosting tends to provide the best performance for vanilla machine learning models. I then used a neural network, which can capture more complex feature interactions and allows for categorical embeddings, which often capture more information than other encoding methods\n",
    "\n",
    "* <b>Which assumptions do you have to make given the available data? (e.g. Do you need to perform any NLP to facilitate the task?)</b>\n",
    "\n",
    "I didn't use NLP because there were codes to serve as proxies for the descriptions. I tried to capture the relevant information by target encoding the codes (making them ordinal but losing distinction between the different codes). I could characterize that as an assumption that there was enough information contained in the regularized target mean for a categorical variable to make a positive impact on the model. I did not have time to test this against one-hot, so that wasn't validated. \n",
    "\n",
    "I likely lost relevant interactions by target encoding, but one-hot would have exploded an already large dataset. There is likely information relevant to feature interctions in those descriptions. Given more time I'd love to dig into the text fields more. Categorical embeddings appears to have helped.\n",
    "\n",
    "I made a couple of assumptions about which features would leak the target (e.g. disposition and charges). They're noted in my notes.\n",
    "\n",
    "* <b>Which feature(s) have more predictive power for the given task? Why?</b>\n",
    "\n",
    "APR DRG Code: [\"DRG, which is based on your age, gender, diagnosis, and the surgical procedures involved.\"](https://www.verywellhealth.com/drg-101-what-is-a-drg-how-does-it-work-3916755) It appears to be a synthesis of several relevant factors. Another guess, patients cost money for each day of stay, and the hospital may try to remove a patient before they become unprofitable.\n",
    "\n",
    "APR Severity of Illness Code: the more severely ill somebody is, the more likely they are to have to stay longer\n",
    "\n",
    "\n",
    "### Application - Build a working model to solve this problem.\n",
    "* <b>What is your model’s performance?</b>\n",
    "\n",
    "MAE:  3.29 days on a target with a mean of 5.5 days for the xgboost model and 0.73 days on the neural network.\n",
    "\n",
    "* <b>For which cases does your model perform poorly? Why?</b>\n",
    "\n",
    "As the length of stay increased, the model's performance continued to decrease. I imagine there's greater variance for length of stay among the mix of conditions that produce longer stays. I didn't have much time to dig into why. I would use t-SNE to see if there were particular clusters for poor performance, as well as shap values for the poor performers to see which features were contributing the poor predictions. Target encoding can lose feature interactions, which likely contributed to performance issues with the xgboost model.\n",
    "\n",
    "* <b>If you had more time to work on this, how would you increase your current performance by 10%? Please explain.</b>\n",
    "\n",
    "For the sake the assignment's integrity I didn't look at outside resources to see if anyone else has tried to tackle this problem. Typically it's the second thing I do (after I make a first go at a model). There are plenty of smart people who have likely engineered features or have additional insight into the problem that would help improve the model. I'd like to go back and see how other people approached this.\n",
    "\n",
    "\n",
    "### Questions\n",
    "* <b>Propose 2 additional questions that might be answered using this dataset.</b>\n",
    "\n",
    "Predict total charges for a patient upon admission\n",
    "\n",
    "Predict age group for a patient (the prediction isn't the useful thing here - it's the shap values and PDPs generated from the model, which I imagine could provide insight to public health specialists or epidemiologists)\n",
    "\n",
    "* <b>How you would answer these questions? Elaborate.</b>\n",
    "\n",
    "Total charges: Regression problem, so xgboost regressor, lightgbm regressor, or tabular nn for the model. Drop total costs and patient disposition, then investigate to see if any others leak the target. Encode either with with either mean of categorical embedding. If gradient boosting, do a large grid search on a subsample of the data and grab coffee, because it's going to be a minute. If tabular model, check the LR find plot, run for several epochs, and then repeat until overfitting starts. \n",
    "\n",
    "Age group: classification problem, so gradient boosted classifier or tabular nn for the model. I would need to first look into how pediatric and geriatric diseases and procedures are labeled to avoid leakage. This one may require one-hot encoding, but categorical embeddings would also work. Target encoding would not. I might build two models for this one. Some people prefer a \"coefficient\" interpreation of dependence, like you get in linear models (monotonic). There's an \"enforce monotonic constraints\" option for xgboost that will build a model that has a monotonic relationship with each feature, and give you monotonic pdps. For people more comfortable with flexibility, the unconstrained model may produce interating questions along the lines of "
   ]
  },
  {
   "cell_type": "markdown",
   "metadata": {},
   "source": [
    "# <span style=\"color:blue\">Data Dict Notes</span>\n",
    "\n",
    "#### Total Charges\n",
    "\n",
    "`Total charges for the discharge.` This will almost certainly leak the target. Every day in the hospital results in additional charges. <b> drop </b>\n",
    "\n",
    "#### Total Costs\n",
    "\n",
    "`Total estimated costs for the discharge.` I'm not certain what the difference between this and total charges is - maybe costs for the hospital? Likely leaky as well. <b>drop</b>, but would investigate further if I had more time. \n",
    "\n",
    "#### Attending Provider License Number\n",
    "\n",
    "`The professional license number, issued by the New York State Department of Education, used to identify the physician or other health care professional primarily responsible for the care of the patient.` I imagine different physicians have different tastes for how long to keep a patient. Possible candidate for target encoding, though it may cause overfitting without further investigation. On the other hand, it seems unlikely that attending physician would be known at time of admission <b>drop</b>\n",
    "\n",
    "#### CCS Procedure Code\n",
    "\n",
    "`Type is Char. Length is 3. AHRQ Clinical Classification Software (CCS) ICD-9 Procedure Category Code.` Seems likely that some patients will have multiple procedures - I'll check that out when I get into the data. <b>Target encode</b>. <span style=\"color:red\">Don't know if information available at time of admission.</span>\n",
    "\n",
    "#### CCS Procedure Description\n",
    "\n",
    "`Typeis Char. Length is 450. AHRQ Clinical Classification Software (CCS) ICD-9 Procedure Category Description.` Likely value to be found in this, but will require work that I don't have time for. CCS Procedure Code w/ target encoding should be fine given constraints. <b> Drop </b>\n",
    "\n",
    "#### APR Medical Surgical Description\n",
    "`Type is Char. Length is 14. The APR-DRG specific classification of Medical, Surgical or Not Applicable.` <b>Target encode</b>\n",
    "\n",
    "#### APR Risk of Mortality\n",
    "`Type is Char. Length is 8. All Patient Refined Risk ofMortality (APR ROM). Minor (1), Moderate (2), Major (3) , Extreme (4).` <b>Target encode</b>\n",
    "\n",
    "#### APR Severity of IllnessDescription\n",
    "`Type is Char. Length is 8. All Patient Refined Severity of Illness (APR SOI) Description. Minor (1), Moderate (2), Major (3) , Extreme (4).` <b>Target encode</b>\n",
    "\n",
    "#### APR MDC Description\n",
    "`Type is Char. Length is 200. All Patient Refined Major Diagnostic Category (APR MDC) Description.` <b>Drop</b> but possible NLP candidate \n",
    "\n",
    "#### APR MDC Code\n",
    "`Type is Char. Length is 2. All Patient Refined Major Diagnostic Category (APR MDC) Code.  APR-DRG Codes 001-006 and 950-956 may group to more than one MDC Code.  All other APR DRGs group to one MDC category. ` Will need to dig into the more than MDC Code a bit. <b>Target encode</b>\n",
    "\n",
    "#### APR DRG Code\n",
    "`Type is Char. Length is 3. The APR-DRG Classification Code` <b> Target Encode </b> span style=\"color:red\">Don't know if information available at time of admission.</span>\n",
    "\n",
    "#### APR DRG Description\n",
    "`Type is Char. Length is 89. The APR-DRG Classification Code DescriptionIn Calendar Year 2011, Version 28 of the APR-DRG Grouper.  http://www.health.ny.gov/statistics/sparcs/sysdoc/appy.htm` <b>Drop</b>\n",
    "\n",
    "#### Discharge Year\n",
    "I'm pretty sure this is just 2009. I'll double check and then <b> drop </b>\n",
    "\n",
    "#### CCS Diagnosis Code\n",
    "`Type is Char. Length is 3.AHRQ Clinical Classification Software (CCS) Diagnosis Category Code.` <b> Target encode</b>. <span style=\"color:red\">Don't know if information available at time of admission.</span>\n",
    "\n",
    "#### CCS Diagnosis Description\n",
    "`Type is Char. Length is 450. AHRQ Clinical Classification Software (CCS) Diagnosis Category Description.` Candidate for NLP but CCS Diagnosis Code should do for now. <b>Drop</b>\n",
    "\n",
    "#### Patient Disposition\n",
    "`Type is Char. Length is 37. The patient's destination or status upon discharge.` This is after discharge, so leaky. <b> Drop </b>\n",
    "\n",
    "#### Type of Admission\n",
    "`Type is Char. Length is 15. A description of the manner in which the patient was admitted to the health care facility:  Elective, Emergency, Newborn, Not Available, Trauma, Urgent` <b>Target Encode</b>\n",
    "\n",
    "#### Ethnicity\n",
    "`Type is Char. Length is 20. Patient ethnicity. The ethnicity of the patient:  Spanish/Hispanic Origin, Not of Spanish/Hispanic Origin, Multi, Unknown.` <b> Target Encode</b>\n",
    "\n",
    "#### Race\n",
    "`Type is Char. Length is 32. Patient race.  Black/African American, Multi, Other Race, Unknown, White.   Other Race includes Native Americansand Asian/Pacific Islander.` <b> Target Encode </b>\n",
    "\n",
    "#### Gender\n",
    "`Type is Char. Length is 1. Patient gender:  (M) Male, (F) Female, (U) Unknown` <b> Target Encode </b>\n",
    "\n",
    "#### Zip Code -3 digits\n",
    "`Type is Char. Length is 3. The first three digits of the patient's zip code.  Blank for:-population size less than 20,000-abortion records, or-cell size less than 10 on population classification strata.“OOS” are Out of State zip codes.` <b> Target Encode </b>\n",
    "\n",
    "#### AgeGroup\n",
    "`Type is Char. Length is 11. Age in years at time of discharge. Grouped into the following age groups: 0 to 17, 18 to 29, 30 to 49, 50 to 69, and 70 or Older.` I'm actually a little skeptical that anyone is going to be reading this, but in case you haven't guessed it: <b> Target Encode </b>\n",
    "\n",
    "#### Facility Name\n",
    "`Type is Char. Length is 70. The name of the facility where services were performed based on the Permanent Facility Identifier (PFI), as maintained by the NYSDOH Division of Health Facility Planning. For abortion records ‘Abortion Record –Facility Name Redacted’ appears` Covered by facility ID, so <b> drop </b>\n",
    "\n",
    "#### Facility ID\n",
    "`Type is Num. Length is 6. Permanent Facility Identifier. Blank for abortion records.` <b> Target Encode </b>\n",
    "\n",
    "#### Operating Certificate Number\n",
    "`Type is Char. Length is 8. The facility Operating Certificate Number as assigned by NYS Department of Health.  Blank for abortion records.` Covered by facility ID, so <b>Drop</b>\n",
    "\n",
    "#### Hospital County\n",
    "`Type is Char. Length is 11.  A description of the county in which the hospital is located.Blank for abortion records.` Worth investigating with more time: are these dropdown or hand-entered? Like could somebody type \"Wane County\" and \"Wayne County\" for the same county? That could cause problems. <b> Target encode </b>\n",
    "\n",
    "#### HealthService Area\n",
    "`Type is Char. Length is 15.  A description of the Health Service Area (HSA) in which the hospital is located.  Blank for abortion records. Capital/Adirondack, Central NY, Finger Lakes, Hudson Valley, Long Island, New York City, Southern Tier, Western NY.` Possibly redundant but you never know. <b> Target encode </b>\n",
    "\n",
    "\n",
    "#### Operating Provider License Number\n",
    "`Type is Char. Length is 8. The professional license number, issued by the New York State Department of Education, used to identify the physician or other healthcare professional who performed the principal procedure. Blank for abortion records` <b>Drop</b>\n",
    "\n",
    "#### Other Provider License Number\n",
    "`Type is Char. Length is 8. The professional license number, issued by the New York State Department of Education, used to identify the physician or other health care professional (other than the Attending Physician or Operating Physician) who was involved in the patient's care or treatment (e.g., consulting physician, second operating physician, nurse/midwife).  Blank for abortion records.` Possible overfitting. Maybe another time. <b>Drop</b>\n",
    "\n",
    "___\n",
    "\n",
    "___"
   ]
  },
  {
   "cell_type": "markdown",
   "metadata": {},
   "source": [
    "# <span style=\"color:blue\">Initial Investigation</span>\n",
    "\n",
    "First step is looking at the data with as few preconceptions as possible."
   ]
  },
  {
   "cell_type": "code",
   "execution_count": 2,
   "metadata": {},
   "outputs": [
    {
     "name": "stderr",
     "output_type": "stream",
     "text": [
      "/home/ec2-user/anaconda3/envs/python3/lib/python3.6/site-packages/IPython/core/interactiveshell.py:2785: DtypeWarning: Columns (6,10) have mixed types. Specify dtype option on import or set low_memory=False.\n",
      "  interactivity=interactivity, compiler=compiler, result=result)\n"
     ]
    }
   ],
   "source": [
    "import pandas as pd\n",
    "pd.set_option('display.max_columns', None)\n",
    "\n",
    "df = pd.read_csv('NYSDOH_HospitalInpatientDischarges_SPARCS_De-Identified_2009.csv')\n"
   ]
  },
  {
   "cell_type": "code",
   "execution_count": 2,
   "metadata": {},
   "outputs": [
    {
     "data": {
      "text/plain": [
       "(2600627, 37)"
      ]
     },
     "execution_count": 2,
     "metadata": {},
     "output_type": "execute_result"
    }
   ],
   "source": [
    "df.shape"
   ]
  },
  {
   "cell_type": "code",
   "execution_count": 2,
   "metadata": {},
   "outputs": [
    {
     "name": "stdout",
     "output_type": "stream",
     "text": [
      "             total       used       free     shared    buffers     cached\n",
      "Mem:         31144       5798      25346          0       1007       2304\n",
      "-/+ buffers/cache:       2486      28658\n",
      "Swap:            0          0          0\n"
     ]
    }
   ],
   "source": [
    "# check memory\n",
    "!free -m"
   ]
  },
  {
   "cell_type": "markdown",
   "metadata": {},
   "source": [
    "### Observation\n",
    "\n",
    "Data is fairly large. I would typically use a mix of Dask and Pandas with a subsample of the data and/or changing the column data type. I've decided to use a large AWS sagemaker instance given the time limitations."
   ]
  },
  {
   "cell_type": "markdown",
   "metadata": {},
   "source": [
    "## Understand Data"
   ]
  },
  {
   "cell_type": "code",
   "execution_count": 3,
   "metadata": {},
   "outputs": [
    {
     "data": {
      "text/html": [
       "<div>\n",
       "<style scoped>\n",
       "    .dataframe tbody tr th:only-of-type {\n",
       "        vertical-align: middle;\n",
       "    }\n",
       "\n",
       "    .dataframe tbody tr th {\n",
       "        vertical-align: top;\n",
       "    }\n",
       "\n",
       "    .dataframe thead th {\n",
       "        text-align: right;\n",
       "    }\n",
       "</style>\n",
       "<table border=\"1\" class=\"dataframe\">\n",
       "  <thead>\n",
       "    <tr style=\"text-align: right;\">\n",
       "      <th></th>\n",
       "      <th>Operating Certificate Number</th>\n",
       "      <th>Permanent Facility Id</th>\n",
       "      <th>Discharge Year</th>\n",
       "      <th>CCS Diagnosis Code</th>\n",
       "      <th>CCS Procedure Code</th>\n",
       "      <th>APR DRG Code</th>\n",
       "      <th>APR MDC Code</th>\n",
       "      <th>APR Severity of Illness Code</th>\n",
       "      <th>Attending Provider License Number</th>\n",
       "      <th>Operating Provider License Number</th>\n",
       "      <th>Other Provider License Number</th>\n",
       "      <th>Birth Weight</th>\n",
       "      <th>Total Costs</th>\n",
       "    </tr>\n",
       "  </thead>\n",
       "  <tbody>\n",
       "    <tr>\n",
       "      <th>count</th>\n",
       "      <td>2.595296e+06</td>\n",
       "      <td>2.595296e+06</td>\n",
       "      <td>2600626.0</td>\n",
       "      <td>2.598603e+06</td>\n",
       "      <td>2.598603e+06</td>\n",
       "      <td>2.600626e+06</td>\n",
       "      <td>2.600626e+06</td>\n",
       "      <td>2.600626e+06</td>\n",
       "      <td>2.595295e+06</td>\n",
       "      <td>1.884066e+06</td>\n",
       "      <td>5.146630e+05</td>\n",
       "      <td>2.600626e+06</td>\n",
       "      <td>2.600626e+06</td>\n",
       "    </tr>\n",
       "    <tr>\n",
       "      <th>mean</th>\n",
       "      <td>5.004360e+06</td>\n",
       "      <td>1.035686e+03</td>\n",
       "      <td>2009.0</td>\n",
       "      <td>1.922415e+02</td>\n",
       "      <td>1.083825e+02</td>\n",
       "      <td>4.052607e+02</td>\n",
       "      <td>1.012561e+01</td>\n",
       "      <td>1.902586e+00</td>\n",
       "      <td>1.417929e+06</td>\n",
       "      <td>1.590906e+06</td>\n",
       "      <td>1.945320e+06</td>\n",
       "      <td>3.182508e+02</td>\n",
       "      <td>1.129775e+04</td>\n",
       "    </tr>\n",
       "    <tr>\n",
       "      <th>std</th>\n",
       "      <td>2.252109e+06</td>\n",
       "      <td>6.459671e+02</td>\n",
       "      <td>0.0</td>\n",
       "      <td>1.566281e+02</td>\n",
       "      <td>8.788507e+01</td>\n",
       "      <td>2.408612e+02</td>\n",
       "      <td>5.935469e+00</td>\n",
       "      <td>8.890252e-01</td>\n",
       "      <td>9.186118e+06</td>\n",
       "      <td>9.707181e+06</td>\n",
       "      <td>1.139188e+07</td>\n",
       "      <td>9.893652e+02</td>\n",
       "      <td>2.533728e+04</td>\n",
       "    </tr>\n",
       "    <tr>\n",
       "      <th>min</th>\n",
       "      <td>1.010000e+05</td>\n",
       "      <td>1.000000e+00</td>\n",
       "      <td>2009.0</td>\n",
       "      <td>1.000000e+00</td>\n",
       "      <td>0.000000e+00</td>\n",
       "      <td>1.000000e+00</td>\n",
       "      <td>0.000000e+00</td>\n",
       "      <td>0.000000e+00</td>\n",
       "      <td>1.000000e+00</td>\n",
       "      <td>1.000000e+00</td>\n",
       "      <td>1.000000e+00</td>\n",
       "      <td>0.000000e+00</td>\n",
       "      <td>3.000000e-01</td>\n",
       "    </tr>\n",
       "    <tr>\n",
       "      <th>25%</th>\n",
       "      <td>2.951001e+06</td>\n",
       "      <td>5.410000e+02</td>\n",
       "      <td>2009.0</td>\n",
       "      <td>1.060000e+02</td>\n",
       "      <td>0.000000e+00</td>\n",
       "      <td>1.970000e+02</td>\n",
       "      <td>5.000000e+00</td>\n",
       "      <td>1.000000e+00</td>\n",
       "      <td>1.634430e+05</td>\n",
       "      <td>1.610440e+05</td>\n",
       "      <td>1.609330e+05</td>\n",
       "      <td>0.000000e+00</td>\n",
       "      <td>3.049890e+03</td>\n",
       "    </tr>\n",
       "    <tr>\n",
       "      <th>50%</th>\n",
       "      <td>5.907001e+06</td>\n",
       "      <td>1.117000e+03</td>\n",
       "      <td>2009.0</td>\n",
       "      <td>1.570000e+02</td>\n",
       "      <td>1.150000e+02</td>\n",
       "      <td>3.510000e+02</td>\n",
       "      <td>8.000000e+00</td>\n",
       "      <td>2.000000e+00</td>\n",
       "      <td>2.012270e+05</td>\n",
       "      <td>1.976290e+05</td>\n",
       "      <td>1.991230e+05</td>\n",
       "      <td>0.000000e+00</td>\n",
       "      <td>5.754120e+03</td>\n",
       "    </tr>\n",
       "    <tr>\n",
       "      <th>75%</th>\n",
       "      <td>7.002002e+06</td>\n",
       "      <td>1.450000e+03</td>\n",
       "      <td>2009.0</td>\n",
       "      <td>2.180000e+02</td>\n",
       "      <td>2.020000e+02</td>\n",
       "      <td>6.400000e+02</td>\n",
       "      <td>1.500000e+01</td>\n",
       "      <td>2.000000e+00</td>\n",
       "      <td>2.295370e+05</td>\n",
       "      <td>2.258670e+05</td>\n",
       "      <td>2.298000e+05</td>\n",
       "      <td>0.000000e+00</td>\n",
       "      <td>1.146253e+04</td>\n",
       "    </tr>\n",
       "    <tr>\n",
       "      <th>max</th>\n",
       "      <td>7.004010e+06</td>\n",
       "      <td>9.059000e+03</td>\n",
       "      <td>2009.0</td>\n",
       "      <td>6.700000e+02</td>\n",
       "      <td>2.310000e+02</td>\n",
       "      <td>9.560000e+02</td>\n",
       "      <td>2.500000e+01</td>\n",
       "      <td>4.000000e+00</td>\n",
       "      <td>9.100000e+07</td>\n",
       "      <td>9.100000e+07</td>\n",
       "      <td>9.100000e+07</td>\n",
       "      <td>9.900000e+03</td>\n",
       "      <td>3.026765e+06</td>\n",
       "    </tr>\n",
       "  </tbody>\n",
       "</table>\n",
       "</div>"
      ],
      "text/plain": [
       "       Operating Certificate Number  Permanent Facility Id  Discharge Year  \\\n",
       "count                  2.595296e+06           2.595296e+06       2600626.0   \n",
       "mean                   5.004360e+06           1.035686e+03          2009.0   \n",
       "std                    2.252109e+06           6.459671e+02             0.0   \n",
       "min                    1.010000e+05           1.000000e+00          2009.0   \n",
       "25%                    2.951001e+06           5.410000e+02          2009.0   \n",
       "50%                    5.907001e+06           1.117000e+03          2009.0   \n",
       "75%                    7.002002e+06           1.450000e+03          2009.0   \n",
       "max                    7.004010e+06           9.059000e+03          2009.0   \n",
       "\n",
       "       CCS Diagnosis Code  CCS Procedure Code  APR DRG Code  APR MDC Code  \\\n",
       "count        2.598603e+06        2.598603e+06  2.600626e+06  2.600626e+06   \n",
       "mean         1.922415e+02        1.083825e+02  4.052607e+02  1.012561e+01   \n",
       "std          1.566281e+02        8.788507e+01  2.408612e+02  5.935469e+00   \n",
       "min          1.000000e+00        0.000000e+00  1.000000e+00  0.000000e+00   \n",
       "25%          1.060000e+02        0.000000e+00  1.970000e+02  5.000000e+00   \n",
       "50%          1.570000e+02        1.150000e+02  3.510000e+02  8.000000e+00   \n",
       "75%          2.180000e+02        2.020000e+02  6.400000e+02  1.500000e+01   \n",
       "max          6.700000e+02        2.310000e+02  9.560000e+02  2.500000e+01   \n",
       "\n",
       "       APR Severity of Illness Code  Attending Provider License Number  \\\n",
       "count                  2.600626e+06                       2.595295e+06   \n",
       "mean                   1.902586e+00                       1.417929e+06   \n",
       "std                    8.890252e-01                       9.186118e+06   \n",
       "min                    0.000000e+00                       1.000000e+00   \n",
       "25%                    1.000000e+00                       1.634430e+05   \n",
       "50%                    2.000000e+00                       2.012270e+05   \n",
       "75%                    2.000000e+00                       2.295370e+05   \n",
       "max                    4.000000e+00                       9.100000e+07   \n",
       "\n",
       "       Operating Provider License Number  Other Provider License Number  \\\n",
       "count                       1.884066e+06                   5.146630e+05   \n",
       "mean                        1.590906e+06                   1.945320e+06   \n",
       "std                         9.707181e+06                   1.139188e+07   \n",
       "min                         1.000000e+00                   1.000000e+00   \n",
       "25%                         1.610440e+05                   1.609330e+05   \n",
       "50%                         1.976290e+05                   1.991230e+05   \n",
       "75%                         2.258670e+05                   2.298000e+05   \n",
       "max                         9.100000e+07                   9.100000e+07   \n",
       "\n",
       "       Birth Weight   Total Costs  \n",
       "count  2.600626e+06  2.600626e+06  \n",
       "mean   3.182508e+02  1.129775e+04  \n",
       "std    9.893652e+02  2.533728e+04  \n",
       "min    0.000000e+00  3.000000e-01  \n",
       "25%    0.000000e+00  3.049890e+03  \n",
       "50%    0.000000e+00  5.754120e+03  \n",
       "75%    0.000000e+00  1.146253e+04  \n",
       "max    9.900000e+03  3.026765e+06  "
      ]
     },
     "execution_count": 3,
     "metadata": {},
     "output_type": "execute_result"
    }
   ],
   "source": [
    "df.describe()"
   ]
  },
  {
   "cell_type": "code",
   "execution_count": 13,
   "metadata": {},
   "outputs": [
    {
     "data": {
      "text/plain": [
       "Hospital Service Area                   object\n",
       "Hospital County                         object\n",
       "Operating Certificate Number           float64\n",
       "Permanent Facility Id                  float64\n",
       "Facility Name                           object\n",
       "Age Group                               object\n",
       "Zip Code - 3 digits                     object\n",
       "Gender                                  object\n",
       "Race                                    object\n",
       "Ethnicity                               object\n",
       "Length of Stay                          object\n",
       "Type of Admission                       object\n",
       "Patient Disposition                     object\n",
       "Discharge Year                         float64\n",
       "CCS Diagnosis Code                     float64\n",
       "CCS Diagnosis Description               object\n",
       "CCS Procedure Code                     float64\n",
       "CCS Procedure Description               object\n",
       "APR DRG Code                           float64\n",
       "APR DRG Description                     object\n",
       "APR MDC Code                           float64\n",
       "APR MDC Description                     object\n",
       "APR Severity of Illness Code           float64\n",
       "APR Severity of Illness Description     object\n",
       "APR Risk of Mortality                   object\n",
       "APR Medical Surgical Description        object\n",
       "Payment Typology 1                      object\n",
       "Payment Typology 2                      object\n",
       "Payment Typology 3                      object\n",
       "Attending Provider License Number      float64\n",
       "Operating Provider License Number      float64\n",
       "Other Provider License Number          float64\n",
       "Birth Weight                           float64\n",
       "Abortion Edit Indicator                 object\n",
       "Emergency Department Indicator          object\n",
       "Total Charges                           object\n",
       "Total Costs                            float64\n",
       "dtype: object"
      ]
     },
     "execution_count": 13,
     "metadata": {},
     "output_type": "execute_result"
    }
   ],
   "source": [
    "df.dtypes"
   ]
  },
  {
   "cell_type": "code",
   "execution_count": 32,
   "metadata": {},
   "outputs": [
    {
     "data": {
      "text/plain": [
       "Hospital Service Area                     5331\n",
       "Hospital County                           5331\n",
       "Operating Certificate Number              5331\n",
       "Permanent Facility Id                     5331\n",
       "Facility Name                                0\n",
       "Age Group                                    0\n",
       "Zip Code - 3 digits                       2410\n",
       "Gender                                       1\n",
       "Race                                         1\n",
       "Ethnicity                                    1\n",
       "Length of Stay                               1\n",
       "Type of Admission                            1\n",
       "Patient Disposition                        193\n",
       "Discharge Year                               1\n",
       "CCS Diagnosis Code                        2024\n",
       "CCS Diagnosis Description                 2024\n",
       "CCS Procedure Code                        2024\n",
       "CCS Procedure Description                 2024\n",
       "APR DRG Code                                 1\n",
       "APR DRG Description                          1\n",
       "APR MDC Code                                 1\n",
       "APR MDC Description                          1\n",
       "APR Severity of Illness Code                 1\n",
       "APR Severity of Illness Description        172\n",
       "APR Risk of Mortality                      172\n",
       "APR Medical Surgical Description             1\n",
       "Payment Typology 1                           1\n",
       "Payment Typology 2                      839634\n",
       "Payment Typology 3                     2058686\n",
       "Attending Provider License Number         5332\n",
       "Operating Provider License Number       716561\n",
       "Other Provider License Number          2085964\n",
       "Birth Weight                                 1\n",
       "Abortion Edit Indicator                      1\n",
       "Emergency Department Indicator               1\n",
       "Total Charges                                1\n",
       "Total Costs                                  1\n",
       "dtype: int64"
      ]
     },
     "execution_count": 32,
     "metadata": {},
     "output_type": "execute_result"
    }
   ],
   "source": [
    "df.isna().sum()"
   ]
  },
  {
   "cell_type": "markdown",
   "metadata": {},
   "source": [
    "### Note\n",
    "\n",
    "Length of stay is an object and can't be immediatley converted to int because of `'120 +'` value and a single `NaN` value. This `120+` to `120` may hurt performance."
   ]
  },
  {
   "cell_type": "code",
   "execution_count": 3,
   "metadata": {},
   "outputs": [],
   "source": [
    "# remove single nan value for target\n",
    "df = df.dropna(subset=['Length of Stay'])\n",
    "\n",
    "# change target to int\n",
    "df['Length of Stay'] = (df['Length of Stay']\n",
    "                            .replace('120 +', '120')\n",
    "                            .astype(int))\n",
    "\n",
    "# drop columns\n",
    "drop_list = ['Total Charges', 'Total Costs', 'Attending Provider License Number', 'CCS Procedure Description', \n",
    " 'APR MDC Description', 'Discharge Year', 'CCS Diagnosis Description', 'Patient Disposition',\n",
    "'Facility Name', 'Operating Certificate Number', 'APR DRG Description', 'Operating Provider License Number',\n",
    "'Other Provider License Number']\n",
    "\n",
    "df = df.drop(drop_list, axis=1)"
   ]
  },
  {
   "cell_type": "markdown",
   "metadata": {},
   "source": [
    "### Check number of values and most common values for cats"
   ]
  },
  {
   "cell_type": "code",
   "execution_count": 5,
   "metadata": {
    "scrolled": true
   },
   "outputs": [
    {
     "name": "stdout",
     "output_type": "stream",
     "text": [
      "Hospital Service Area \n",
      " Total values: 8 \n",
      " New York City     1214615\n",
      "Long Island        384090\n",
      "Hudson Valley      268744\n",
      "Western NY         189082\n",
      "Capital/Adiron     179132\n",
      "Name: Hospital Service Area, dtype: int64 \n",
      "\n",
      "Hospital County \n",
      " Total values: 57 \n",
      " Manhattan    424387\n",
      "Kings        300531\n",
      "Queens       218924\n",
      "Nassau       215772\n",
      "Bronx        208572\n",
      "Name: Hospital County, dtype: int64 \n",
      "\n",
      "Age Group \n",
      " Total values: 5 \n",
      " 70 or Older    717459\n",
      "50 to 69       652484\n",
      "30 to 49       546749\n",
      "0 to 17        400789\n",
      "18 to 29       283145\n",
      "Name: Age Group, dtype: int64 \n",
      "\n",
      "Zip Code - 3 digits \n",
      " Total values: 51 \n",
      " 112      370225\n",
      "104      252005\n",
      "100.0    210179\n",
      "117      203926\n",
      "113      140125\n",
      "Name: Zip Code - 3 digits, dtype: int64 \n",
      "\n",
      "Gender \n",
      " Total values: 3 \n",
      " F    1467965\n",
      "M    1132616\n",
      "U         45\n",
      "Name: Gender, dtype: int64 \n",
      "\n",
      "Race \n",
      " Total values: 4 \n",
      " White                     1573150\n",
      "Black/African American     508772\n",
      "Other Race                 493273\n",
      "Unknown                     25431\n",
      "Name: Race, dtype: int64 \n",
      "\n",
      "Ethnicity \n",
      " Total values: 3 \n",
      " Not Span/Hispanic    2105117\n",
      "Spanish/Hispanic      341899\n",
      "Unknown               153610\n",
      "Name: Ethnicity, dtype: int64 \n",
      "\n",
      "Type of Admission \n",
      " Total values: 6 \n",
      " Emergency        1615032\n",
      "Elective          500721\n",
      "Newborn           244952\n",
      "Urgent            236661\n",
      "Not Available       3250\n",
      "Name: Type of Admission, dtype: int64 \n",
      "\n",
      "APR Severity of Illness Description \n",
      " Total values: 4 \n",
      " Minor       1026365\n",
      "Moderate     940574\n",
      "Major        493663\n",
      "Extreme      139853\n",
      "Name: APR Severity of Illness Description, dtype: int64 \n",
      "\n",
      "APR Risk of Mortality \n",
      " Total values: 4 \n",
      " Minor       1664122\n",
      "Moderate     541722\n",
      "Major        284525\n",
      "Extreme      110086\n",
      "Name: APR Risk of Mortality, dtype: int64 \n",
      "\n",
      "APR Medical Surgical Description \n",
      " Total values: 3 \n",
      " Medical           2001796\n",
      "Surgical           598659\n",
      "Not Applicable        171\n",
      "Name: APR Medical Surgical Description, dtype: int64 \n",
      "\n",
      "Payment Typology 1 \n",
      " Total values: 10 \n",
      " Insurance Company    858262\n",
      "Medicare             823946\n",
      "Medicaid             413979\n",
      "Blue Cross           331659\n",
      "Self-Pay             134645\n",
      "Name: Payment Typology 1, dtype: int64 \n",
      "\n",
      "Payment Typology 2 \n",
      " Total values: 10 \n",
      " Medicaid             558424\n",
      "Self-Pay             467575\n",
      "Medicare             325602\n",
      "Insurance Company    235273\n",
      "Blue Cross           164557\n",
      "Name: Payment Typology 2, dtype: int64 \n",
      "\n",
      "Payment Typology 3 \n",
      " Total values: 10 \n",
      " Self-Pay             372216\n",
      "Medicaid              96691\n",
      "Insurance Company     31613\n",
      "Blue Cross            21507\n",
      "Medicare              17938\n",
      "Name: Payment Typology 3, dtype: int64 \n",
      "\n",
      "Abortion Edit Indicator \n",
      " Total values: 2 \n",
      " N    2595295\n",
      "Y       5331\n",
      "Name: Abortion Edit Indicator, dtype: int64 \n",
      "\n",
      "Emergency Department Indicator \n",
      " Total values: 2 \n",
      " Y    1431797\n",
      "N    1168829\n",
      "Name: Emergency Department Indicator, dtype: int64 \n",
      "\n"
     ]
    }
   ],
   "source": [
    "for column in df.columns[(df.dtypes != 'float64') & (df.dtypes != 'int')]:\n",
    "    print(f\"{column} \\n Total values:\", \n",
    "          len(df[column].value_counts()), \n",
    "          '\\n', \n",
    "          df[column].value_counts()[:5],\n",
    "          '\\n')"
   ]
  },
  {
   "cell_type": "code",
   "execution_count": 6,
   "metadata": {},
   "outputs": [
    {
     "data": {
      "text/html": [
       "<div>\n",
       "<style scoped>\n",
       "    .dataframe tbody tr th:only-of-type {\n",
       "        vertical-align: middle;\n",
       "    }\n",
       "\n",
       "    .dataframe tbody tr th {\n",
       "        vertical-align: top;\n",
       "    }\n",
       "\n",
       "    .dataframe thead th {\n",
       "        text-align: right;\n",
       "    }\n",
       "</style>\n",
       "<table border=\"1\" class=\"dataframe\">\n",
       "  <thead>\n",
       "    <tr style=\"text-align: right;\">\n",
       "      <th></th>\n",
       "      <th>Hospital Service Area</th>\n",
       "      <th>Hospital County</th>\n",
       "      <th>Permanent Facility Id</th>\n",
       "      <th>Age Group</th>\n",
       "      <th>Zip Code - 3 digits</th>\n",
       "      <th>Gender</th>\n",
       "      <th>Race</th>\n",
       "      <th>Ethnicity</th>\n",
       "      <th>Length of Stay</th>\n",
       "      <th>Type of Admission</th>\n",
       "      <th>CCS Diagnosis Code</th>\n",
       "      <th>CCS Procedure Code</th>\n",
       "      <th>APR DRG Code</th>\n",
       "      <th>APR MDC Code</th>\n",
       "      <th>APR Severity of Illness Code</th>\n",
       "      <th>APR Severity of Illness Description</th>\n",
       "      <th>APR Risk of Mortality</th>\n",
       "      <th>APR Medical Surgical Description</th>\n",
       "      <th>Payment Typology 1</th>\n",
       "      <th>Payment Typology 2</th>\n",
       "      <th>Payment Typology 3</th>\n",
       "      <th>Birth Weight</th>\n",
       "      <th>Abortion Edit Indicator</th>\n",
       "      <th>Emergency Department Indicator</th>\n",
       "    </tr>\n",
       "  </thead>\n",
       "  <tbody>\n",
       "    <tr>\n",
       "      <th>0</th>\n",
       "      <td>New York City</td>\n",
       "      <td>Manhattan</td>\n",
       "      <td>1458.0</td>\n",
       "      <td>0 to 17</td>\n",
       "      <td>NaN</td>\n",
       "      <td>M</td>\n",
       "      <td>White</td>\n",
       "      <td>Spanish/Hispanic</td>\n",
       "      <td>2</td>\n",
       "      <td>Newborn</td>\n",
       "      <td>218.0</td>\n",
       "      <td>115.0</td>\n",
       "      <td>640.0</td>\n",
       "      <td>15.0</td>\n",
       "      <td>1.0</td>\n",
       "      <td>Minor</td>\n",
       "      <td>Minor</td>\n",
       "      <td>Medical</td>\n",
       "      <td>Insurance Company</td>\n",
       "      <td>Self-Pay</td>\n",
       "      <td>NaN</td>\n",
       "      <td>2700.0</td>\n",
       "      <td>N</td>\n",
       "      <td>N</td>\n",
       "    </tr>\n",
       "    <tr>\n",
       "      <th>1</th>\n",
       "      <td>New York City</td>\n",
       "      <td>Manhattan</td>\n",
       "      <td>1458.0</td>\n",
       "      <td>0 to 17</td>\n",
       "      <td>NaN</td>\n",
       "      <td>M</td>\n",
       "      <td>White</td>\n",
       "      <td>Spanish/Hispanic</td>\n",
       "      <td>4</td>\n",
       "      <td>Emergency</td>\n",
       "      <td>131.0</td>\n",
       "      <td>216.0</td>\n",
       "      <td>133.0</td>\n",
       "      <td>4.0</td>\n",
       "      <td>2.0</td>\n",
       "      <td>Moderate</td>\n",
       "      <td>Major</td>\n",
       "      <td>Medical</td>\n",
       "      <td>Insurance Company</td>\n",
       "      <td>Self-Pay</td>\n",
       "      <td>NaN</td>\n",
       "      <td>0.0</td>\n",
       "      <td>N</td>\n",
       "      <td>N</td>\n",
       "    </tr>\n",
       "    <tr>\n",
       "      <th>2</th>\n",
       "      <td>New York City</td>\n",
       "      <td>Manhattan</td>\n",
       "      <td>1464.0</td>\n",
       "      <td>0 to 17</td>\n",
       "      <td>NaN</td>\n",
       "      <td>M</td>\n",
       "      <td>White</td>\n",
       "      <td>Spanish/Hispanic</td>\n",
       "      <td>2</td>\n",
       "      <td>Newborn</td>\n",
       "      <td>218.0</td>\n",
       "      <td>220.0</td>\n",
       "      <td>640.0</td>\n",
       "      <td>15.0</td>\n",
       "      <td>1.0</td>\n",
       "      <td>Minor</td>\n",
       "      <td>Minor</td>\n",
       "      <td>Medical</td>\n",
       "      <td>Blue Cross</td>\n",
       "      <td>Self-Pay</td>\n",
       "      <td>NaN</td>\n",
       "      <td>3800.0</td>\n",
       "      <td>N</td>\n",
       "      <td>N</td>\n",
       "    </tr>\n",
       "    <tr>\n",
       "      <th>3</th>\n",
       "      <td>Southern Tier</td>\n",
       "      <td>Tompkins</td>\n",
       "      <td>977.0</td>\n",
       "      <td>0 to 17</td>\n",
       "      <td>NaN</td>\n",
       "      <td>M</td>\n",
       "      <td>White</td>\n",
       "      <td>Unknown</td>\n",
       "      <td>2</td>\n",
       "      <td>Newborn</td>\n",
       "      <td>218.0</td>\n",
       "      <td>228.0</td>\n",
       "      <td>640.0</td>\n",
       "      <td>15.0</td>\n",
       "      <td>2.0</td>\n",
       "      <td>Moderate</td>\n",
       "      <td>Minor</td>\n",
       "      <td>Medical</td>\n",
       "      <td>Blue Cross</td>\n",
       "      <td>NaN</td>\n",
       "      <td>NaN</td>\n",
       "      <td>3300.0</td>\n",
       "      <td>N</td>\n",
       "      <td>N</td>\n",
       "    </tr>\n",
       "    <tr>\n",
       "      <th>4</th>\n",
       "      <td>New York City</td>\n",
       "      <td>Bronx</td>\n",
       "      <td>1176.0</td>\n",
       "      <td>0 to 17</td>\n",
       "      <td>NaN</td>\n",
       "      <td>M</td>\n",
       "      <td>White</td>\n",
       "      <td>Not Span/Hispanic</td>\n",
       "      <td>3</td>\n",
       "      <td>Emergency</td>\n",
       "      <td>83.0</td>\n",
       "      <td>4.0</td>\n",
       "      <td>53.0</td>\n",
       "      <td>1.0</td>\n",
       "      <td>2.0</td>\n",
       "      <td>Moderate</td>\n",
       "      <td>Minor</td>\n",
       "      <td>Medical</td>\n",
       "      <td>Self-Pay</td>\n",
       "      <td>NaN</td>\n",
       "      <td>NaN</td>\n",
       "      <td>0.0</td>\n",
       "      <td>N</td>\n",
       "      <td>Y</td>\n",
       "    </tr>\n",
       "  </tbody>\n",
       "</table>\n",
       "</div>"
      ],
      "text/plain": [
       "  Hospital Service Area Hospital County  Permanent Facility Id Age Group  \\\n",
       "0         New York City       Manhattan                 1458.0   0 to 17   \n",
       "1         New York City       Manhattan                 1458.0   0 to 17   \n",
       "2         New York City       Manhattan                 1464.0   0 to 17   \n",
       "3         Southern Tier        Tompkins                  977.0   0 to 17   \n",
       "4         New York City           Bronx                 1176.0   0 to 17   \n",
       "\n",
       "  Zip Code - 3 digits Gender   Race          Ethnicity  Length of Stay  \\\n",
       "0                 NaN      M  White   Spanish/Hispanic               2   \n",
       "1                 NaN      M  White   Spanish/Hispanic               4   \n",
       "2                 NaN      M  White   Spanish/Hispanic               2   \n",
       "3                 NaN      M  White            Unknown               2   \n",
       "4                 NaN      M  White  Not Span/Hispanic               3   \n",
       "\n",
       "  Type of Admission  CCS Diagnosis Code  CCS Procedure Code  APR DRG Code  \\\n",
       "0           Newborn               218.0               115.0         640.0   \n",
       "1         Emergency               131.0               216.0         133.0   \n",
       "2           Newborn               218.0               220.0         640.0   \n",
       "3           Newborn               218.0               228.0         640.0   \n",
       "4         Emergency                83.0                 4.0          53.0   \n",
       "\n",
       "   APR MDC Code  APR Severity of Illness Code  \\\n",
       "0          15.0                           1.0   \n",
       "1           4.0                           2.0   \n",
       "2          15.0                           1.0   \n",
       "3          15.0                           2.0   \n",
       "4           1.0                           2.0   \n",
       "\n",
       "  APR Severity of Illness Description APR Risk of Mortality  \\\n",
       "0                               Minor                 Minor   \n",
       "1                            Moderate                 Major   \n",
       "2                               Minor                 Minor   \n",
       "3                            Moderate                 Minor   \n",
       "4                            Moderate                 Minor   \n",
       "\n",
       "  APR Medical Surgical Description Payment Typology 1 Payment Typology 2  \\\n",
       "0                          Medical  Insurance Company           Self-Pay   \n",
       "1                          Medical  Insurance Company           Self-Pay   \n",
       "2                          Medical         Blue Cross           Self-Pay   \n",
       "3                          Medical         Blue Cross                NaN   \n",
       "4                          Medical           Self-Pay                NaN   \n",
       "\n",
       "  Payment Typology 3  Birth Weight Abortion Edit Indicator  \\\n",
       "0                NaN        2700.0                       N   \n",
       "1                NaN           0.0                       N   \n",
       "2                NaN        3800.0                       N   \n",
       "3                NaN        3300.0                       N   \n",
       "4                NaN           0.0                       N   \n",
       "\n",
       "  Emergency Department Indicator  \n",
       "0                              N  \n",
       "1                              N  \n",
       "2                              N  \n",
       "3                              N  \n",
       "4                              Y  "
      ]
     },
     "execution_count": 6,
     "metadata": {},
     "output_type": "execute_result"
    }
   ],
   "source": [
    "df.head()"
   ]
  },
  {
   "cell_type": "code",
   "execution_count": 7,
   "metadata": {},
   "outputs": [
    {
     "data": {
      "text/html": [
       "<div>\n",
       "<style scoped>\n",
       "    .dataframe tbody tr th:only-of-type {\n",
       "        vertical-align: middle;\n",
       "    }\n",
       "\n",
       "    .dataframe tbody tr th {\n",
       "        vertical-align: top;\n",
       "    }\n",
       "\n",
       "    .dataframe thead th {\n",
       "        text-align: right;\n",
       "    }\n",
       "</style>\n",
       "<table border=\"1\" class=\"dataframe\">\n",
       "  <thead>\n",
       "    <tr style=\"text-align: right;\">\n",
       "      <th></th>\n",
       "      <th>Hospital Service Area</th>\n",
       "      <th>Hospital County</th>\n",
       "      <th>Permanent Facility Id</th>\n",
       "      <th>Age Group</th>\n",
       "      <th>Zip Code - 3 digits</th>\n",
       "      <th>Gender</th>\n",
       "      <th>Race</th>\n",
       "      <th>Ethnicity</th>\n",
       "      <th>Length of Stay</th>\n",
       "      <th>Type of Admission</th>\n",
       "      <th>CCS Diagnosis Code</th>\n",
       "      <th>CCS Procedure Code</th>\n",
       "      <th>APR DRG Code</th>\n",
       "      <th>APR MDC Code</th>\n",
       "      <th>APR Severity of Illness Code</th>\n",
       "      <th>APR Severity of Illness Description</th>\n",
       "      <th>APR Risk of Mortality</th>\n",
       "      <th>APR Medical Surgical Description</th>\n",
       "      <th>Payment Typology 1</th>\n",
       "      <th>Payment Typology 2</th>\n",
       "      <th>Payment Typology 3</th>\n",
       "      <th>Birth Weight</th>\n",
       "      <th>Abortion Edit Indicator</th>\n",
       "      <th>Emergency Department Indicator</th>\n",
       "    </tr>\n",
       "  </thead>\n",
       "  <tbody>\n",
       "    <tr>\n",
       "      <th>2600621</th>\n",
       "      <td>New York City</td>\n",
       "      <td>Queens</td>\n",
       "      <td>1628.0</td>\n",
       "      <td>18 to 29</td>\n",
       "      <td>OOS</td>\n",
       "      <td>M</td>\n",
       "      <td>White</td>\n",
       "      <td>Not Span/Hispanic</td>\n",
       "      <td>5</td>\n",
       "      <td>Emergency</td>\n",
       "      <td>661.0</td>\n",
       "      <td>219.0</td>\n",
       "      <td>773.0</td>\n",
       "      <td>20.0</td>\n",
       "      <td>2.0</td>\n",
       "      <td>Moderate</td>\n",
       "      <td>Minor</td>\n",
       "      <td>Medical</td>\n",
       "      <td>Medicaid</td>\n",
       "      <td>NaN</td>\n",
       "      <td>NaN</td>\n",
       "      <td>0.0</td>\n",
       "      <td>N</td>\n",
       "      <td>Y</td>\n",
       "    </tr>\n",
       "    <tr>\n",
       "      <th>2600622</th>\n",
       "      <td>New York City</td>\n",
       "      <td>Queens</td>\n",
       "      <td>1628.0</td>\n",
       "      <td>18 to 29</td>\n",
       "      <td>OOS</td>\n",
       "      <td>M</td>\n",
       "      <td>White</td>\n",
       "      <td>Not Span/Hispanic</td>\n",
       "      <td>2</td>\n",
       "      <td>Emergency</td>\n",
       "      <td>661.0</td>\n",
       "      <td>219.0</td>\n",
       "      <td>773.0</td>\n",
       "      <td>20.0</td>\n",
       "      <td>1.0</td>\n",
       "      <td>Minor</td>\n",
       "      <td>Minor</td>\n",
       "      <td>Medical</td>\n",
       "      <td>Self-Pay</td>\n",
       "      <td>NaN</td>\n",
       "      <td>NaN</td>\n",
       "      <td>0.0</td>\n",
       "      <td>N</td>\n",
       "      <td>Y</td>\n",
       "    </tr>\n",
       "    <tr>\n",
       "      <th>2600623</th>\n",
       "      <td>New York City</td>\n",
       "      <td>Queens</td>\n",
       "      <td>1629.0</td>\n",
       "      <td>18 to 29</td>\n",
       "      <td>OOS</td>\n",
       "      <td>M</td>\n",
       "      <td>White</td>\n",
       "      <td>Not Span/Hispanic</td>\n",
       "      <td>19</td>\n",
       "      <td>Emergency</td>\n",
       "      <td>659.0</td>\n",
       "      <td>218.0</td>\n",
       "      <td>750.0</td>\n",
       "      <td>19.0</td>\n",
       "      <td>1.0</td>\n",
       "      <td>Minor</td>\n",
       "      <td>Minor</td>\n",
       "      <td>Medical</td>\n",
       "      <td>Self-Pay</td>\n",
       "      <td>NaN</td>\n",
       "      <td>NaN</td>\n",
       "      <td>0.0</td>\n",
       "      <td>N</td>\n",
       "      <td>Y</td>\n",
       "    </tr>\n",
       "    <tr>\n",
       "      <th>2600624</th>\n",
       "      <td>New York City</td>\n",
       "      <td>Queens</td>\n",
       "      <td>1629.0</td>\n",
       "      <td>18 to 29</td>\n",
       "      <td>OOS</td>\n",
       "      <td>M</td>\n",
       "      <td>White</td>\n",
       "      <td>Not Span/Hispanic</td>\n",
       "      <td>2</td>\n",
       "      <td>Emergency</td>\n",
       "      <td>243.0</td>\n",
       "      <td>231.0</td>\n",
       "      <td>816.0</td>\n",
       "      <td>21.0</td>\n",
       "      <td>2.0</td>\n",
       "      <td>Moderate</td>\n",
       "      <td>Minor</td>\n",
       "      <td>Medical</td>\n",
       "      <td>Self-Pay</td>\n",
       "      <td>NaN</td>\n",
       "      <td>NaN</td>\n",
       "      <td>0.0</td>\n",
       "      <td>N</td>\n",
       "      <td>Y</td>\n",
       "    </tr>\n",
       "    <tr>\n",
       "      <th>2600625</th>\n",
       "      <td>New York City</td>\n",
       "      <td>Queens</td>\n",
       "      <td>1629.0</td>\n",
       "      <td>18 to 29</td>\n",
       "      <td>OOS</td>\n",
       "      <td>M</td>\n",
       "      <td>White</td>\n",
       "      <td>Not Span/Hispanic</td>\n",
       "      <td>1</td>\n",
       "      <td>Emergency</td>\n",
       "      <td>142.0</td>\n",
       "      <td>80.0</td>\n",
       "      <td>225.0</td>\n",
       "      <td>6.0</td>\n",
       "      <td>1.0</td>\n",
       "      <td>Minor</td>\n",
       "      <td>Minor</td>\n",
       "      <td>Surgical</td>\n",
       "      <td>Self-Pay</td>\n",
       "      <td>NaN</td>\n",
       "      <td>NaN</td>\n",
       "      <td>0.0</td>\n",
       "      <td>N</td>\n",
       "      <td>Y</td>\n",
       "    </tr>\n",
       "  </tbody>\n",
       "</table>\n",
       "</div>"
      ],
      "text/plain": [
       "        Hospital Service Area Hospital County  Permanent Facility Id  \\\n",
       "2600621         New York City          Queens                 1628.0   \n",
       "2600622         New York City          Queens                 1628.0   \n",
       "2600623         New York City          Queens                 1629.0   \n",
       "2600624         New York City          Queens                 1629.0   \n",
       "2600625         New York City          Queens                 1629.0   \n",
       "\n",
       "        Age Group Zip Code - 3 digits Gender   Race          Ethnicity  \\\n",
       "2600621  18 to 29                 OOS      M  White  Not Span/Hispanic   \n",
       "2600622  18 to 29                 OOS      M  White  Not Span/Hispanic   \n",
       "2600623  18 to 29                 OOS      M  White  Not Span/Hispanic   \n",
       "2600624  18 to 29                 OOS      M  White  Not Span/Hispanic   \n",
       "2600625  18 to 29                 OOS      M  White  Not Span/Hispanic   \n",
       "\n",
       "         Length of Stay Type of Admission  CCS Diagnosis Code  \\\n",
       "2600621               5         Emergency               661.0   \n",
       "2600622               2         Emergency               661.0   \n",
       "2600623              19         Emergency               659.0   \n",
       "2600624               2         Emergency               243.0   \n",
       "2600625               1         Emergency               142.0   \n",
       "\n",
       "         CCS Procedure Code  APR DRG Code  APR MDC Code  \\\n",
       "2600621               219.0         773.0          20.0   \n",
       "2600622               219.0         773.0          20.0   \n",
       "2600623               218.0         750.0          19.0   \n",
       "2600624               231.0         816.0          21.0   \n",
       "2600625                80.0         225.0           6.0   \n",
       "\n",
       "         APR Severity of Illness Code APR Severity of Illness Description  \\\n",
       "2600621                           2.0                            Moderate   \n",
       "2600622                           1.0                               Minor   \n",
       "2600623                           1.0                               Minor   \n",
       "2600624                           2.0                            Moderate   \n",
       "2600625                           1.0                               Minor   \n",
       "\n",
       "        APR Risk of Mortality APR Medical Surgical Description  \\\n",
       "2600621                 Minor                          Medical   \n",
       "2600622                 Minor                          Medical   \n",
       "2600623                 Minor                          Medical   \n",
       "2600624                 Minor                          Medical   \n",
       "2600625                 Minor                         Surgical   \n",
       "\n",
       "        Payment Typology 1 Payment Typology 2 Payment Typology 3  \\\n",
       "2600621           Medicaid                NaN                NaN   \n",
       "2600622           Self-Pay                NaN                NaN   \n",
       "2600623           Self-Pay                NaN                NaN   \n",
       "2600624           Self-Pay                NaN                NaN   \n",
       "2600625           Self-Pay                NaN                NaN   \n",
       "\n",
       "         Birth Weight Abortion Edit Indicator Emergency Department Indicator  \n",
       "2600621           0.0                       N                              Y  \n",
       "2600622           0.0                       N                              Y  \n",
       "2600623           0.0                       N                              Y  \n",
       "2600624           0.0                       N                              Y  \n",
       "2600625           0.0                       N                              Y  "
      ]
     },
     "execution_count": 7,
     "metadata": {},
     "output_type": "execute_result"
    }
   ],
   "source": [
    "df.tail()"
   ]
  },
  {
   "cell_type": "markdown",
   "metadata": {},
   "source": [
    "### Check relationship between cats and target"
   ]
  },
  {
   "cell_type": "code",
   "execution_count": 23,
   "metadata": {},
   "outputs": [],
   "source": [
    "cats = df.columns[(df.dtypes != 'float64') & (df.dtypes != 'int')].to_list()\n",
    "cats.extend(['CCS Diagnosis Code', 'CCS Procedure Code', 'APR DRG Code', \n",
    "            'APR MDC Code', 'APR Severity of Illness Code'])"
   ]
  },
  {
   "cell_type": "code",
   "execution_count": 48,
   "metadata": {},
   "outputs": [
    {
     "data": {
      "text/plain": [
       "<matplotlib.axes._subplots.AxesSubplot at 0x7fe698159c50>"
      ]
     },
     "execution_count": 48,
     "metadata": {},
     "output_type": "execute_result"
    },
    {
     "data": {
      "image/png": "[encoded data removed]",
      "text/plain": [
       "<Figure size 1080x360 with 1 Axes>"
      ]
     },
     "metadata": {},
     "output_type": "display_data"
    }
   ],
   "source": [
    "%matplotlib inline\n",
    "import matplotlib.pyplot as plt\n",
    "\n",
    "plt.figure(figsize=(15,5))\n",
    "df['Length of Stay'].value_counts().plot(kind='bar')"
   ]
  },
  {
   "cell_type": "code",
   "execution_count": 25,
   "metadata": {
    "scrolled": false
   },
   "outputs": [
    {
     "name": "stdout",
     "output_type": "stream",
     "text": [
      "Hospital Service Area\n"
     ]
    },
    {
     "data": {
      "image/png": "[encoded data removed]",
      "text/plain": [
       "<Figure size 720x360 with 1 Axes>"
      ]
     },
     "metadata": {},
     "output_type": "display_data"
    },
    {
     "name": "stdout",
     "output_type": "stream",
     "text": [
      "Hospital County\n"
     ]
    },
    {
     "data": {
      "image/png": "[encoded data removed]",
      "text/plain": [
       "<Figure size 720x360 with 1 Axes>"
      ]
     },
     "metadata": {},
     "output_type": "display_data"
    },
    {
     "name": "stdout",
     "output_type": "stream",
     "text": [
      "Age Group\n"
     ]
    },
    {
     "data": {
      "image/png": "[encoded data removed]",
      "text/plain": [
       "<Figure size 720x360 with 1 Axes>"
      ]
     },
     "metadata": {},
     "output_type": "display_data"
    },
    {
     "name": "stdout",
     "output_type": "stream",
     "text": [
      "Zip Code - 3 digits\n"
     ]
    },
    {
     "data": {
      "image/png": "[encoded data removed]",
      "text/plain": [
       "<Figure size 720x360 with 1 Axes>"
      ]
     },
     "metadata": {},
     "output_type": "display_data"
    },
    {
     "name": "stdout",
     "output_type": "stream",
     "text": [
      "Gender\n"
     ]
    },
    {
     "data": {
      "image/png": "[encoded data removed]",
      "text/plain": [
       "<Figure size 720x360 with 1 Axes>"
      ]
     },
     "metadata": {},
     "output_type": "display_data"
    },
    {
     "name": "stdout",
     "output_type": "stream",
     "text": [
      "Race\n"
     ]
    },
    {
     "data": {
      "image/png": "[encoded data removed]",
      "text/plain": [
       "<Figure size 720x360 with 1 Axes>"
      ]
     },
     "metadata": {},
     "output_type": "display_data"
    },
    {
     "name": "stdout",
     "output_type": "stream",
     "text": [
      "Ethnicity\n"
     ]
    },
    {
     "data": {
      "image/png": "[encoded data removed]",
      "text/plain": [
       "<Figure size 720x360 with 1 Axes>"
      ]
     },
     "metadata": {},
     "output_type": "display_data"
    },
    {
     "name": "stdout",
     "output_type": "stream",
     "text": [
      "Type of Admission\n"
     ]
    },
    {
     "data": {
      "image/png": "[encoded data removed]",
      "text/plain": [
       "<Figure size 720x360 with 1 Axes>"
      ]
     },
     "metadata": {},
     "output_type": "display_data"
    },
    {
     "name": "stdout",
     "output_type": "stream",
     "text": [
      "APR Severity of Illness Description\n"
     ]
    },
    {
     "data": {
      "image/png": "[encoded data removed]",
      "text/plain": [
       "<Figure size 720x360 with 1 Axes>"
      ]
     },
     "metadata": {},
     "output_type": "display_data"
    },
    {
     "name": "stdout",
     "output_type": "stream",
     "text": [
      "APR Risk of Mortality\n"
     ]
    },
    {
     "data": {
      "image/png": "[encoded data removed]",
      "text/plain": [
       "<Figure size 720x360 with 1 Axes>"
      ]
     },
     "metadata": {},
     "output_type": "display_data"
    },
    {
     "name": "stdout",
     "output_type": "stream",
     "text": [
      "APR Medical Surgical Description\n"
     ]
    },
    {
     "data": {
      "image/png": "[encoded data removed]",
      "text/plain": [
       "<Figure size 720x360 with 1 Axes>"
      ]
     },
     "metadata": {},
     "output_type": "display_data"
    },
    {
     "name": "stdout",
     "output_type": "stream",
     "text": [
      "Payment Typology 1\n"
     ]
    },
    {
     "data": {
      "image/png": "[encoded data removed]",
      "text/plain": [
       "<Figure size 720x360 with 1 Axes>"
      ]
     },
     "metadata": {},
     "output_type": "display_data"
    },
    {
     "name": "stdout",
     "output_type": "stream",
     "text": [
      "Payment Typology 2\n"
     ]
    },
    {
     "data": {
      "image/png": "[encoded data removed]",
      "text/plain": [
       "<Figure size 720x360 with 1 Axes>"
      ]
     },
     "metadata": {},
     "output_type": "display_data"
    },
    {
     "name": "stdout",
     "output_type": "stream",
     "text": [
      "Payment Typology 3\n"
     ]
    },
    {
     "data": {
      "image/png": "[encoded data removed]",
      "text/plain": [
       "<Figure size 720x360 with 1 Axes>"
      ]
     },
     "metadata": {},
     "output_type": "display_data"
    },
    {
     "name": "stdout",
     "output_type": "stream",
     "text": [
      "Abortion Edit Indicator\n"
     ]
    },
    {
     "data": {
      "image/png": "[encoded data removed]",
      "text/plain": [
       "<Figure size 720x360 with 1 Axes>"
      ]
     },
     "metadata": {},
     "output_type": "display_data"
    },
    {
     "name": "stdout",
     "output_type": "stream",
     "text": [
      "Emergency Department Indicator\n"
     ]
    },
    {
     "data": {
      "image/png": "[encoded data removed]",
      "text/plain": [
       "<Figure size 720x360 with 1 Axes>"
      ]
     },
     "metadata": {},
     "output_type": "display_data"
    },
    {
     "name": "stdout",
     "output_type": "stream",
     "text": [
      "CCS Diagnosis Code\n"
     ]
    },
    {
     "data": {
      "image/png": "[encoded data removed]",
      "text/plain": [
       "<Figure size 720x360 with 1 Axes>"
      ]
     },
     "metadata": {},
     "output_type": "display_data"
    },
    {
     "name": "stdout",
     "output_type": "stream",
     "text": [
      "CCS Procedure Code\n"
     ]
    },
    {
     "data": {
      "image/png": "[encoded data removed]",
      "text/plain": [
       "<Figure size 720x360 with 1 Axes>"
      ]
     },
     "metadata": {},
     "output_type": "display_data"
    },
    {
     "name": "stdout",
     "output_type": "stream",
     "text": [
      "APR DRG Code\n"
     ]
    },
    {
     "data": {
      "image/png": "[encoded data removed]",
      "text/plain": [
       "<Figure size 720x360 with 1 Axes>"
      ]
     },
     "metadata": {},
     "output_type": "display_data"
    },
    {
     "name": "stdout",
     "output_type": "stream",
     "text": [
      "APR MDC Code\n"
     ]
    },
    {
     "data": {
      "image/png": "[encoded data removed]",
      "text/plain": [
       "<Figure size 720x360 with 1 Axes>"
      ]
     },
     "metadata": {},
     "output_type": "display_data"
    },
    {
     "name": "stdout",
     "output_type": "stream",
     "text": [
      "APR Severity of Illness Code\n"
     ]
    },
    {
     "data": {
      "image/png": "[encoded data removed]",
      "text/plain": [
       "<Figure size 720x360 with 1 Axes>"
      ]
     },
     "metadata": {},
     "output_type": "display_data"
    }
   ],
   "source": [
    "for column in cats:\n",
    "    plt.figure(figsize=(10,5))\n",
    "    print(column)\n",
    "    df.groupby(column).mean()['Length of Stay'].plot.bar()\n",
    "    plt.show()\n"
   ]
  },
  {
   "cell_type": "markdown",
   "metadata": {},
   "source": [
    "# <span style=\"color:blue\">Begin Modeling</span>"
   ]
  },
  {
   "cell_type": "code",
   "execution_count": 5,
   "metadata": {},
   "outputs": [
    {
     "name": "stdout",
     "output_type": "stream",
     "text": [
      "Requirement already satisfied: xgboost in /home/ec2-user/anaconda3/envs/python3/lib/python3.6/site-packages (0.90)\n",
      "Requirement already satisfied: numpy in /home/ec2-user/anaconda3/envs/python3/lib/python3.6/site-packages (from xgboost) (1.14.3)\n",
      "Requirement already satisfied: scipy in /home/ec2-user/anaconda3/envs/python3/lib/python3.6/site-packages (from xgboost) (1.1.0)\n",
      "\u001b[33mYou are using pip version 10.0.1, however version 19.2.2 is available.\n",
      "You should consider upgrading via the 'pip install --upgrade pip' command.\u001b[0m\n"
     ]
    }
   ],
   "source": [
    "!pip install xgboost"
   ]
  },
  {
   "cell_type": "markdown",
   "metadata": {},
   "source": [
    "### Start with small sample for hyperparameter search"
   ]
  },
  {
   "cell_type": "code",
   "execution_count": 50,
   "metadata": {},
   "outputs": [],
   "source": [
    "df_s = (df.sample(100000)\n",
    "          .reset_index()\n",
    "          .drop('index',axis=1))"
   ]
  },
  {
   "cell_type": "code",
   "execution_count": 28,
   "metadata": {
    "scrolled": true
   },
   "outputs": [
    {
     "data": {
      "text/html": [
       "<div>\n",
       "<style scoped>\n",
       "    .dataframe tbody tr th:only-of-type {\n",
       "        vertical-align: middle;\n",
       "    }\n",
       "\n",
       "    .dataframe tbody tr th {\n",
       "        vertical-align: top;\n",
       "    }\n",
       "\n",
       "    .dataframe thead th {\n",
       "        text-align: right;\n",
       "    }\n",
       "</style>\n",
       "<table border=\"1\" class=\"dataframe\">\n",
       "  <thead>\n",
       "    <tr style=\"text-align: right;\">\n",
       "      <th></th>\n",
       "      <th>Hospital Service Area</th>\n",
       "      <th>Hospital County</th>\n",
       "      <th>Permanent Facility Id</th>\n",
       "      <th>Age Group</th>\n",
       "      <th>Zip Code - 3 digits</th>\n",
       "      <th>Gender</th>\n",
       "      <th>Race</th>\n",
       "      <th>Ethnicity</th>\n",
       "      <th>Length of Stay</th>\n",
       "      <th>Type of Admission</th>\n",
       "      <th>CCS Diagnosis Code</th>\n",
       "      <th>CCS Procedure Code</th>\n",
       "      <th>APR DRG Code</th>\n",
       "      <th>APR MDC Code</th>\n",
       "      <th>APR Severity of Illness Code</th>\n",
       "      <th>APR Severity of Illness Description</th>\n",
       "      <th>APR Risk of Mortality</th>\n",
       "      <th>APR Medical Surgical Description</th>\n",
       "      <th>Payment Typology 1</th>\n",
       "      <th>Payment Typology 2</th>\n",
       "      <th>Payment Typology 3</th>\n",
       "      <th>Birth Weight</th>\n",
       "      <th>Abortion Edit Indicator</th>\n",
       "      <th>Emergency Department Indicator</th>\n",
       "    </tr>\n",
       "  </thead>\n",
       "  <tbody>\n",
       "    <tr>\n",
       "      <th>0</th>\n",
       "      <td>New York City</td>\n",
       "      <td>Manhattan</td>\n",
       "      <td>1446.0</td>\n",
       "      <td>50 to 69</td>\n",
       "      <td>103</td>\n",
       "      <td>F</td>\n",
       "      <td>White</td>\n",
       "      <td>Not Span/Hispanic</td>\n",
       "      <td>1</td>\n",
       "      <td>Elective</td>\n",
       "      <td>205.0</td>\n",
       "      <td>216.0</td>\n",
       "      <td>347.0</td>\n",
       "      <td>8.0</td>\n",
       "      <td>2.0</td>\n",
       "      <td>Moderate</td>\n",
       "      <td>Minor</td>\n",
       "      <td>Medical</td>\n",
       "      <td>Workers Compensation</td>\n",
       "      <td>Self-Pay</td>\n",
       "      <td>NaN</td>\n",
       "      <td>0.0</td>\n",
       "      <td>N</td>\n",
       "      <td>N</td>\n",
       "    </tr>\n",
       "    <tr>\n",
       "      <th>1</th>\n",
       "      <td>New York City</td>\n",
       "      <td>Manhattan</td>\n",
       "      <td>1456.0</td>\n",
       "      <td>50 to 69</td>\n",
       "      <td>100</td>\n",
       "      <td>M</td>\n",
       "      <td>Black/African American</td>\n",
       "      <td>Not Span/Hispanic</td>\n",
       "      <td>10</td>\n",
       "      <td>Emergency</td>\n",
       "      <td>99.0</td>\n",
       "      <td>216.0</td>\n",
       "      <td>194.0</td>\n",
       "      <td>5.0</td>\n",
       "      <td>4.0</td>\n",
       "      <td>Extreme</td>\n",
       "      <td>Extreme</td>\n",
       "      <td>Medical</td>\n",
       "      <td>Insurance Company</td>\n",
       "      <td>Medicaid</td>\n",
       "      <td>Self-Pay</td>\n",
       "      <td>0.0</td>\n",
       "      <td>N</td>\n",
       "      <td>Y</td>\n",
       "    </tr>\n",
       "  </tbody>\n",
       "</table>\n",
       "</div>"
      ],
      "text/plain": [
       "  Hospital Service Area Hospital County  Permanent Facility Id Age Group  \\\n",
       "0         New York City       Manhattan                 1446.0  50 to 69   \n",
       "1         New York City       Manhattan                 1456.0  50 to 69   \n",
       "\n",
       "  Zip Code - 3 digits Gender                    Race          Ethnicity  \\\n",
       "0                 103      F                   White  Not Span/Hispanic   \n",
       "1                 100      M  Black/African American  Not Span/Hispanic   \n",
       "\n",
       "   Length of Stay Type of Admission  CCS Diagnosis Code  CCS Procedure Code  \\\n",
       "0               1          Elective               205.0               216.0   \n",
       "1              10         Emergency                99.0               216.0   \n",
       "\n",
       "   APR DRG Code  APR MDC Code  APR Severity of Illness Code  \\\n",
       "0         347.0           8.0                           2.0   \n",
       "1         194.0           5.0                           4.0   \n",
       "\n",
       "  APR Severity of Illness Description APR Risk of Mortality  \\\n",
       "0                            Moderate                 Minor   \n",
       "1                             Extreme               Extreme   \n",
       "\n",
       "  APR Medical Surgical Description    Payment Typology 1 Payment Typology 2  \\\n",
       "0                          Medical  Workers Compensation           Self-Pay   \n",
       "1                          Medical     Insurance Company           Medicaid   \n",
       "\n",
       "  Payment Typology 3  Birth Weight Abortion Edit Indicator  \\\n",
       "0                NaN           0.0                       N   \n",
       "1           Self-Pay           0.0                       N   \n",
       "\n",
       "  Emergency Department Indicator  \n",
       "0                              N  \n",
       "1                              Y  "
      ]
     },
     "execution_count": 28,
     "metadata": {},
     "output_type": "execute_result"
    }
   ],
   "source": [
    "# confirm index is reset\n",
    "df_s.head(2)"
   ]
  },
  {
   "cell_type": "markdown",
   "metadata": {},
   "source": [
    "### Split into train and holdout"
   ]
  },
  {
   "cell_type": "code",
   "execution_count": 63,
   "metadata": {},
   "outputs": [],
   "source": [
    "from sklearn.model_selection import train_test_split\n",
    "X = df_s.drop('Length of Stay', axis=1)\n",
    "y = df_s['Length of Stay']\n",
    "\n",
    "X_train, X_test, y_train, y_test = train_test_split(X,y, test_size=0.1, random_state=1911)"
   ]
  },
  {
   "cell_type": "markdown",
   "metadata": {},
   "source": [
    "### Target encoder with regularization"
   ]
  },
  {
   "cell_type": "code",
   "execution_count": 30,
   "metadata": {},
   "outputs": [],
   "source": [
    "import numpy as np\n",
    "target_mean = df_s['Length of Stay'].mean()\n",
    "\n",
    "def mean_dict(df: pd.DataFrame, column: str, target: str, weight: int):\n",
    "    \"\"\"\n",
    "    Return dict with regularized target encoding values. \n",
    "    \"\"\"\n",
    "    \n",
    "    agg = df.groupby(column)[target].agg(['count', 'mean'])\n",
    "    counts = agg['count']\n",
    "    means = agg['mean']\n",
    "    \n",
    "    smoothed = (counts * means + weight * target_mean) / (counts + weight)\n",
    "    smoothed[np.nan] = target_mean\n",
    "    \n",
    "    return smoothed.to_dict()"
   ]
  },
  {
   "cell_type": "code",
   "execution_count": 64,
   "metadata": {},
   "outputs": [],
   "source": [
    "enc_dict = {}\n",
    "for cat in cats:\n",
    "    enc_dict[cat] = mean_dict(df_s.iloc[X_train.index], cat, 'Length of Stay', 100)"
   ]
  },
  {
   "cell_type": "code",
   "execution_count": 65,
   "metadata": {},
   "outputs": [
    {
     "name": "stderr",
     "output_type": "stream",
     "text": [
      "/home/ec2-user/anaconda3/envs/python3/lib/python3.6/site-packages/ipykernel/__main__.py:2: SettingWithCopyWarning: \n",
      "A value is trying to be set on a copy of a slice from a DataFrame.\n",
      "Try using .loc[row_indexer,col_indexer] = value instead\n",
      "\n",
      "See the caveats in the documentation: http://pandas.pydata.org/pandas-docs/stable/indexing.html#indexing-view-versus-copy\n",
      "  from ipykernel import kernelapp as app\n"
     ]
    }
   ],
   "source": [
    "for cat in cats:\n",
    "    X_train[cat] = X_train[cat].map(enc_dict[cat])"
   ]
  },
  {
   "cell_type": "code",
   "execution_count": 35,
   "metadata": {
    "scrolled": true
   },
   "outputs": [
    {
     "data": {
      "text/html": [
       "<div>\n",
       "<style scoped>\n",
       "    .dataframe tbody tr th:only-of-type {\n",
       "        vertical-align: middle;\n",
       "    }\n",
       "\n",
       "    .dataframe tbody tr th {\n",
       "        vertical-align: top;\n",
       "    }\n",
       "\n",
       "    .dataframe thead th {\n",
       "        text-align: right;\n",
       "    }\n",
       "</style>\n",
       "<table border=\"1\" class=\"dataframe\">\n",
       "  <thead>\n",
       "    <tr style=\"text-align: right;\">\n",
       "      <th></th>\n",
       "      <th>Hospital Service Area</th>\n",
       "      <th>Hospital County</th>\n",
       "      <th>Permanent Facility Id</th>\n",
       "      <th>Age Group</th>\n",
       "      <th>Zip Code - 3 digits</th>\n",
       "      <th>Gender</th>\n",
       "      <th>Race</th>\n",
       "      <th>Ethnicity</th>\n",
       "      <th>Type of Admission</th>\n",
       "      <th>CCS Diagnosis Code</th>\n",
       "      <th>CCS Procedure Code</th>\n",
       "      <th>APR DRG Code</th>\n",
       "      <th>APR MDC Code</th>\n",
       "      <th>APR Severity of Illness Code</th>\n",
       "      <th>APR Severity of Illness Description</th>\n",
       "      <th>APR Risk of Mortality</th>\n",
       "      <th>APR Medical Surgical Description</th>\n",
       "      <th>Payment Typology 1</th>\n",
       "      <th>Payment Typology 2</th>\n",
       "      <th>Payment Typology 3</th>\n",
       "      <th>Birth Weight</th>\n",
       "      <th>Abortion Edit Indicator</th>\n",
       "      <th>Emergency Department Indicator</th>\n",
       "    </tr>\n",
       "  </thead>\n",
       "  <tbody>\n",
       "    <tr>\n",
       "      <th>77658</th>\n",
       "      <td>5.068886</td>\n",
       "      <td>5.509847</td>\n",
       "      <td>630.0</td>\n",
       "      <td>6.562055</td>\n",
       "      <td>5.218206</td>\n",
       "      <td>5.174835</td>\n",
       "      <td>5.410269</td>\n",
       "      <td>5.599583</td>\n",
       "      <td>6.011702</td>\n",
       "      <td>7.500161</td>\n",
       "      <td>4.503951</td>\n",
       "      <td>6.715573</td>\n",
       "      <td>5.510121</td>\n",
       "      <td>7.816560</td>\n",
       "      <td>7.816560</td>\n",
       "      <td>5.919050</td>\n",
       "      <td>5.343399</td>\n",
       "      <td>6.768064</td>\n",
       "      <td>6.275817</td>\n",
       "      <td>5.738881</td>\n",
       "      <td>0.0</td>\n",
       "      <td>5.506714</td>\n",
       "      <td>5.750836</td>\n",
       "    </tr>\n",
       "    <tr>\n",
       "      <th>18015</th>\n",
       "      <td>5.351080</td>\n",
       "      <td>5.208026</td>\n",
       "      <td>103.0</td>\n",
       "      <td>6.562055</td>\n",
       "      <td>4.988963</td>\n",
       "      <td>5.922343</td>\n",
       "      <td>5.410269</td>\n",
       "      <td>5.599583</td>\n",
       "      <td>6.011702</td>\n",
       "      <td>3.637867</td>\n",
       "      <td>4.670141</td>\n",
       "      <td>5.102007</td>\n",
       "      <td>6.150535</td>\n",
       "      <td>7.816560</td>\n",
       "      <td>7.816560</td>\n",
       "      <td>9.045027</td>\n",
       "      <td>5.343399</td>\n",
       "      <td>6.768064</td>\n",
       "      <td>5.506310</td>\n",
       "      <td>5.506310</td>\n",
       "      <td>0.0</td>\n",
       "      <td>5.506714</td>\n",
       "      <td>5.750836</td>\n",
       "    </tr>\n",
       "    <tr>\n",
       "      <th>20912</th>\n",
       "      <td>5.351080</td>\n",
       "      <td>5.511252</td>\n",
       "      <td>3067.0</td>\n",
       "      <td>6.562055</td>\n",
       "      <td>5.076951</td>\n",
       "      <td>5.922343</td>\n",
       "      <td>5.410269</td>\n",
       "      <td>5.599583</td>\n",
       "      <td>5.868923</td>\n",
       "      <td>6.913654</td>\n",
       "      <td>4.503951</td>\n",
       "      <td>5.163197</td>\n",
       "      <td>5.361558</td>\n",
       "      <td>5.060602</td>\n",
       "      <td>5.060602</td>\n",
       "      <td>4.106197</td>\n",
       "      <td>5.343399</td>\n",
       "      <td>6.768064</td>\n",
       "      <td>5.155970</td>\n",
       "      <td>5.506310</td>\n",
       "      <td>0.0</td>\n",
       "      <td>5.506714</td>\n",
       "      <td>5.750836</td>\n",
       "    </tr>\n",
       "    <tr>\n",
       "      <th>8354</th>\n",
       "      <td>5.664876</td>\n",
       "      <td>5.508712</td>\n",
       "      <td>1638.0</td>\n",
       "      <td>6.138104</td>\n",
       "      <td>5.639462</td>\n",
       "      <td>5.922343</td>\n",
       "      <td>5.410269</td>\n",
       "      <td>4.926568</td>\n",
       "      <td>5.868923</td>\n",
       "      <td>5.376181</td>\n",
       "      <td>10.367317</td>\n",
       "      <td>10.407281</td>\n",
       "      <td>5.361558</td>\n",
       "      <td>7.816560</td>\n",
       "      <td>7.816560</td>\n",
       "      <td>9.045027</td>\n",
       "      <td>6.017152</td>\n",
       "      <td>4.419333</td>\n",
       "      <td>5.329198</td>\n",
       "      <td>5.506310</td>\n",
       "      <td>0.0</td>\n",
       "      <td>5.506714</td>\n",
       "      <td>5.750836</td>\n",
       "    </tr>\n",
       "    <tr>\n",
       "      <th>27526</th>\n",
       "      <td>6.058474</td>\n",
       "      <td>6.899269</td>\n",
       "      <td>1045.0</td>\n",
       "      <td>6.562055</td>\n",
       "      <td>6.051388</td>\n",
       "      <td>5.174835</td>\n",
       "      <td>5.410269</td>\n",
       "      <td>5.599583</td>\n",
       "      <td>5.868923</td>\n",
       "      <td>8.479384</td>\n",
       "      <td>4.503951</td>\n",
       "      <td>6.692923</td>\n",
       "      <td>5.924237</td>\n",
       "      <td>7.816560</td>\n",
       "      <td>7.816560</td>\n",
       "      <td>9.045027</td>\n",
       "      <td>5.343399</td>\n",
       "      <td>6.768064</td>\n",
       "      <td>6.242191</td>\n",
       "      <td>5.506310</td>\n",
       "      <td>0.0</td>\n",
       "      <td>5.506714</td>\n",
       "      <td>5.750836</td>\n",
       "    </tr>\n",
       "  </tbody>\n",
       "</table>\n",
       "</div>"
      ],
      "text/plain": [
       "       Hospital Service Area  Hospital County  Permanent Facility Id  \\\n",
       "77658               5.068886         5.509847                  630.0   \n",
       "18015               5.351080         5.208026                  103.0   \n",
       "20912               5.351080         5.511252                 3067.0   \n",
       "8354                5.664876         5.508712                 1638.0   \n",
       "27526               6.058474         6.899269                 1045.0   \n",
       "\n",
       "       Age Group  Zip Code - 3 digits    Gender      Race  Ethnicity  \\\n",
       "77658   6.562055             5.218206  5.174835  5.410269   5.599583   \n",
       "18015   6.562055             4.988963  5.922343  5.410269   5.599583   \n",
       "20912   6.562055             5.076951  5.922343  5.410269   5.599583   \n",
       "8354    6.138104             5.639462  5.922343  5.410269   4.926568   \n",
       "27526   6.562055             6.051388  5.174835  5.410269   5.599583   \n",
       "\n",
       "       Type of Admission  CCS Diagnosis Code  CCS Procedure Code  \\\n",
       "77658           6.011702            7.500161            4.503951   \n",
       "18015           6.011702            3.637867            4.670141   \n",
       "20912           5.868923            6.913654            4.503951   \n",
       "8354            5.868923            5.376181           10.367317   \n",
       "27526           5.868923            8.479384            4.503951   \n",
       "\n",
       "       APR DRG Code  APR MDC Code  APR Severity of Illness Code  \\\n",
       "77658      6.715573      5.510121                      7.816560   \n",
       "18015      5.102007      6.150535                      7.816560   \n",
       "20912      5.163197      5.361558                      5.060602   \n",
       "8354      10.407281      5.361558                      7.816560   \n",
       "27526      6.692923      5.924237                      7.816560   \n",
       "\n",
       "       APR Severity of Illness Description  APR Risk of Mortality  \\\n",
       "77658                             7.816560               5.919050   \n",
       "18015                             7.816560               9.045027   \n",
       "20912                             5.060602               4.106197   \n",
       "8354                              7.816560               9.045027   \n",
       "27526                             7.816560               9.045027   \n",
       "\n",
       "       APR Medical Surgical Description  Payment Typology 1  \\\n",
       "77658                          5.343399            6.768064   \n",
       "18015                          5.343399            6.768064   \n",
       "20912                          5.343399            6.768064   \n",
       "8354                           6.017152            4.419333   \n",
       "27526                          5.343399            6.768064   \n",
       "\n",
       "       Payment Typology 2  Payment Typology 3  Birth Weight  \\\n",
       "77658            6.275817            5.738881           0.0   \n",
       "18015            5.506310            5.506310           0.0   \n",
       "20912            5.155970            5.506310           0.0   \n",
       "8354             5.329198            5.506310           0.0   \n",
       "27526            6.242191            5.506310           0.0   \n",
       "\n",
       "       Abortion Edit Indicator  Emergency Department Indicator  \n",
       "77658                 5.506714                        5.750836  \n",
       "18015                 5.506714                        5.750836  \n",
       "20912                 5.506714                        5.750836  \n",
       "8354                  5.506714                        5.750836  \n",
       "27526                 5.506714                        5.750836  "
      ]
     },
     "execution_count": 35,
     "metadata": {},
     "output_type": "execute_result"
    }
   ],
   "source": [
    "X_train.head()"
   ]
  },
  {
   "cell_type": "code",
   "execution_count": 66,
   "metadata": {},
   "outputs": [],
   "source": [
    "from xgboost import XGBRegressor\n",
    "from sklearn.model_selection import GridSearchCV\n",
    "\n",
    "xgb1 = XGBRegressor()\n",
    "param_grid = {\n",
    "              'objective':['reg:linear'],\n",
    "              'learning_rate': [0.05, .07], #so called `eta` value\n",
    "              'max_depth': [3, 4, 5],\n",
    "              'min_child_weight': [4, 5],\n",
    "              'silent': [1],\n",
    "              'subsample': [0.7],\n",
    "              'n_estimators': [200]}\n",
    "\n",
    "xgb_grid = GridSearchCV(xgb1,\n",
    "                        param_grid,\n",
    "                        cv = 2,\n",
    "                        n_jobs = -1,\n",
    "                        verbose=True)"
   ]
  },
  {
   "cell_type": "code",
   "execution_count": 67,
   "metadata": {},
   "outputs": [
    {
     "name": "stdout",
     "output_type": "stream",
     "text": [
      "Fitting 2 folds for each of 12 candidates, totalling 24 fits\n"
     ]
    },
    {
     "name": "stderr",
     "output_type": "stream",
     "text": [
      "[Parallel(n_jobs=-1)]: Using backend LokyBackend with 16 concurrent workers.\n",
      "[Parallel(n_jobs=-1)]: Done  18 out of  24 | elapsed:   20.1s remaining:    6.7s\n",
      "[Parallel(n_jobs=-1)]: Done  24 out of  24 | elapsed:   22.8s finished\n",
      "/home/ec2-user/anaconda3/envs/python3/lib/python3.6/site-packages/xgboost/core.py:587: FutureWarning: Series.base is deprecated and will be removed in a future version\n",
      "  if getattr(data, 'base', None) is not None and \\\n"
     ]
    },
    {
     "data": {
      "text/plain": [
       "GridSearchCV(cv=2, error_score='raise-deprecating',\n",
       "       estimator=XGBRegressor(base_score=0.5, booster='gbtree', colsample_bylevel=1,\n",
       "       colsample_bynode=1, colsample_bytree=1, gamma=0,\n",
       "       importance_type='gain', learning_rate=0.1, max_delta_step=0,\n",
       "       max_depth=3, min_child_weight=1, missing=None, n_estimators=100,\n",
       "       n_jobs=1, nthread=None, objective='reg:linear', random_state=0,\n",
       "       reg_alpha=0, reg_lambda=1, scale_pos_weight=1, seed=None,\n",
       "       silent=None, subsample=1, verbosity=1),\n",
       "       fit_params=None, iid='warn', n_jobs=-1,\n",
       "       param_grid={'objective': ['reg:linear'], 'learning_rate': [0.05, 0.07], 'max_depth': [3, 4, 5], 'min_child_weight': [4, 5], 'silent': [1], 'subsample': [0.7], 'n_estimators': [200]},\n",
       "       pre_dispatch='2*n_jobs', refit=True, return_train_score='warn',\n",
       "       scoring=None, verbose=True)"
      ]
     },
     "execution_count": 67,
     "metadata": {},
     "output_type": "execute_result"
    }
   ],
   "source": [
    "xgb_grid.fit(X_train, y_train)"
   ]
  },
  {
   "cell_type": "code",
   "execution_count": 68,
   "metadata": {},
   "outputs": [
    {
     "name": "stderr",
     "output_type": "stream",
     "text": [
      "/home/ec2-user/anaconda3/envs/python3/lib/python3.6/site-packages/ipykernel/__main__.py:5: SettingWithCopyWarning: \n",
      "A value is trying to be set on a copy of a slice from a DataFrame.\n",
      "Try using .loc[row_indexer,col_indexer] = value instead\n",
      "\n",
      "See the caveats in the documentation: http://pandas.pydata.org/pandas-docs/stable/indexing.html#indexing-view-versus-copy\n"
     ]
    },
    {
     "name": "stdout",
     "output_type": "stream",
     "text": [
      "2.7925495087385177\n"
     ]
    }
   ],
   "source": [
    "from sklearn.metrics import mean_absolute_error\n",
    "\n",
    "# encode X_test\n",
    "for cat in cats:\n",
    "    X_test[cat] = X_test[cat].map(enc_dict[cat])\n",
    "\n",
    "print(mean_absolute_error(y_test, xgb_grid.predict(X_test)))"
   ]
  },
  {
   "cell_type": "code",
   "execution_count": 49,
   "metadata": {},
   "outputs": [
    {
     "data": {
      "text/plain": [
       "5.5585"
      ]
     },
     "execution_count": 49,
     "metadata": {},
     "output_type": "execute_result"
    }
   ],
   "source": [
    "y_test.mean()"
   ]
  },
  {
   "cell_type": "markdown",
   "metadata": {},
   "source": [
    "# <span style=\"color:blue\">Understand Model</span>"
   ]
  },
  {
   "cell_type": "markdown",
   "metadata": {},
   "source": [
    "### Observation\n",
    "\n",
    "I'm not especially pleased with this result but time is pretty limited. Let's take a quick look at what's happening with the model before using the best params from the gridsearch to train on the whole dataset. "
   ]
  },
  {
   "cell_type": "code",
   "execution_count": 73,
   "metadata": {
    "scrolled": true
   },
   "outputs": [
    {
     "name": "stdout",
     "output_type": "stream",
     "text": [
      "2:  2.3146308791965517\n",
      "3:  1.7320443712829106\n",
      "4:  1.5988142116722452\n",
      "5:  1.6047100043430502\n",
      "6:  1.6466365223208304\n",
      "7:  1.6996652542111992\n",
      "8:  1.7584804976290553\n",
      "9:  1.8084974820310749\n",
      "10:  1.855147538744304\n",
      "11:  1.8954918274426245\n",
      "12:  1.931452782810327\n",
      "13:  1.9662805151696237\n",
      "14:  1.9952654048111054\n",
      "15:  2.028053056116658\n",
      "16:  2.0593256435574143\n",
      "17:  2.0843918689119554\n",
      "18:  2.106878708764817\n",
      "19:  2.129329348364168\n"
     ]
    }
   ],
   "source": [
    "test = df_s.copy()\n",
    "for cat in cats:\n",
    "    test[cat] = test[cat].map(enc_dict[cat])\n",
    "\n",
    "for length_of_stay in range(2,20):\n",
    "    Xt = test[test['Length of Stay'] < length_of_stay].drop('Length of Stay',axis=1)\n",
    "    Yt = test['Length of Stay'][test['Length of Stay'] < length_of_stay]\n",
    "    print(f'{length_of_stay}: ', mean_absolute_error(Yt, xgb_grid.predict(Xt)))"
   ]
  },
  {
   "cell_type": "code",
   "execution_count": 78,
   "metadata": {},
   "outputs": [
    {
     "name": "stdout",
     "output_type": "stream",
     "text": [
      "1:  2.3146308791965517\n",
      "2:  1.3009967921179164\n",
      "3:  1.2962844941721947\n",
      "4:  1.6344955360078177\n",
      "5:  2.0485277310597243\n",
      "6:  2.4785433585584498\n",
      "7:  2.9322503554945665\n",
      "8:  3.2395544605417834\n",
      "9:  3.66587662277892\n",
      "10:  3.9767656444727777\n",
      "11:  4.41619553108408\n",
      "12:  4.649384032957173\n",
      "13:  4.777571239892175\n",
      "14:  5.2419390125386025\n",
      "15:  6.033500590831123\n",
      "16:  6.044939731149112\n",
      "17:  6.538987996180852\n",
      "18:  7.285764052672087\n",
      "19:  7.675679918819879\n",
      "20:  7.63289603247787\n",
      "21:  7.9921848673038385\n",
      "22:  8.94575286252158\n",
      "23:  8.77257172042775\n",
      "24:  10.281448001161628\n",
      "25:  10.712892608798068\n",
      "26:  11.287036688296826\n",
      "27:  11.849480025161652\n",
      "28:  10.57484127260604\n",
      "29:  12.489637475543551\n",
      "30:  13.5909633117147\n",
      "31:  15.230184529957018\n",
      "32:  16.36066919368702\n",
      "33:  15.69476063200768\n",
      "34:  18.193434596061707\n"
     ]
    }
   ],
   "source": [
    "x_plot = []\n",
    "y_plot = []\n",
    "\n",
    "for length_of_stay in range(1,35):\n",
    "    x_plot.append(length_of_stay)\n",
    "    Xt = test[test['Length of Stay'] == length_of_stay].drop('Length of Stay',axis=1)\n",
    "    Yt = test['Length of Stay'][test['Length of Stay'] == length_of_stay]\n",
    "    mae = mean_absolute_error(Yt, xgb_grid.predict(Xt))\n",
    "    y_plot.append(mae)\n",
    "    print(f'{length_of_stay}: ', mae)"
   ]
  },
  {
   "cell_type": "code",
   "execution_count": 79,
   "metadata": {},
   "outputs": [
    {
     "data": {
      "text/plain": [
       "<BarContainer object of 34 artists>"
      ]
     },
     "execution_count": 79,
     "metadata": {},
     "output_type": "execute_result"
    },
    {
     "data": {
      "image/png": "[encoded data removed]",
      "text/plain": [
       "<Figure size 432x288 with 1 Axes>"
      ]
     },
     "metadata": {},
     "output_type": "display_data"
    }
   ],
   "source": [
    "plt.title('MAE by length of stay')\n",
    "plt.xlabel('Length of Stay')\n",
    "plt.ylabel('MAE')\n",
    "plt.bar(x_plot,y_plot)"
   ]
  },
  {
   "cell_type": "code",
   "execution_count": 81,
   "metadata": {},
   "outputs": [
    {
     "name": "stdout",
     "output_type": "stream",
     "text": [
      "10:  3.9767656444727777\n",
      "20:  7.63289603247787\n",
      "30:  13.5909633117147\n",
      "40:  18.789116458689914\n",
      "50:  25.850651330418057\n",
      "60:  32.66028933525085\n",
      "70:  42.873282139117904\n",
      "80:  47.757101440429686\n",
      "90:  40.87402089436849\n",
      "100:  65.91111501057942\n",
      "110:  50.78170394897461\n",
      "120:  81.75179507884573\n"
     ]
    }
   ],
   "source": [
    "x_plot = []\n",
    "y_plot = []\n",
    "\n",
    "for length_of_stay in range(10,130,10):\n",
    "    x_plot.append(length_of_stay)\n",
    "    Xt = test[test['Length of Stay'] == length_of_stay].drop('Length of Stay',axis=1)\n",
    "    Yt = test['Length of Stay'][test['Length of Stay'] == length_of_stay]\n",
    "    mae = mean_absolute_error(Yt, xgb_grid.predict(Xt))\n",
    "    y_plot.append(mae)\n",
    "    print(f'{length_of_stay}: ', mae)"
   ]
  },
  {
   "cell_type": "code",
   "execution_count": 82,
   "metadata": {},
   "outputs": [
    {
     "data": {
      "text/plain": [
       "<BarContainer object of 12 artists>"
      ]
     },
     "execution_count": 82,
     "metadata": {},
     "output_type": "execute_result"
    },
    {
     "data": {
      "image/png": "[encoded data removed]",
      "text/plain": [
       "<Figure size 432x288 with 1 Axes>"
      ]
     },
     "metadata": {},
     "output_type": "display_data"
    }
   ],
   "source": [
    "plt.title('MAE by length of stay')\n",
    "plt.xlabel('Length of Stay')\n",
    "plt.ylabel('MAE/Percent Error')\n",
    "plt.bar(x_plot,y_plot)\n",
    "plt.bar((np.array(x_plot)-2),((np.array(y_plot)/np.array(x_plot)*100)))"
   ]
  },
  {
   "cell_type": "code",
   "execution_count": null,
   "metadata": {},
   "outputs": [],
   "source": [
    "!pip install shap"
   ]
  },
  {
   "cell_type": "code",
   "execution_count": 88,
   "metadata": {},
   "outputs": [
    {
     "data": {
      "text/html": [
       "<div>\n",
       "<style scoped>\n",
       "    .dataframe tbody tr th:only-of-type {\n",
       "        vertical-align: middle;\n",
       "    }\n",
       "\n",
       "    .dataframe tbody tr th {\n",
       "        vertical-align: top;\n",
       "    }\n",
       "\n",
       "    .dataframe thead th {\n",
       "        text-align: right;\n",
       "    }\n",
       "</style>\n",
       "<table border=\"1\" class=\"dataframe\">\n",
       "  <thead>\n",
       "    <tr style=\"text-align: right;\">\n",
       "      <th></th>\n",
       "      <th>Hospital Service Area</th>\n",
       "      <th>Hospital County</th>\n",
       "      <th>Permanent Facility Id</th>\n",
       "      <th>Age Group</th>\n",
       "      <th>Zip Code - 3 digits</th>\n",
       "      <th>Gender</th>\n",
       "      <th>Race</th>\n",
       "      <th>Ethnicity</th>\n",
       "      <th>Type of Admission</th>\n",
       "      <th>CCS Diagnosis Code</th>\n",
       "      <th>CCS Procedure Code</th>\n",
       "      <th>APR DRG Code</th>\n",
       "      <th>APR MDC Code</th>\n",
       "      <th>APR Severity of Illness Code</th>\n",
       "      <th>APR Severity of Illness Description</th>\n",
       "      <th>APR Risk of Mortality</th>\n",
       "      <th>APR Medical Surgical Description</th>\n",
       "      <th>Payment Typology 1</th>\n",
       "      <th>Payment Typology 2</th>\n",
       "      <th>Payment Typology 3</th>\n",
       "      <th>Birth Weight</th>\n",
       "      <th>Abortion Edit Indicator</th>\n",
       "      <th>Emergency Department Indicator</th>\n",
       "    </tr>\n",
       "  </thead>\n",
       "  <tbody>\n",
       "    <tr>\n",
       "      <th>77658</th>\n",
       "      <td>5.711169</td>\n",
       "      <td>5.851320</td>\n",
       "      <td>1320.0</td>\n",
       "      <td>6.585940</td>\n",
       "      <td>5.784766</td>\n",
       "      <td>5.959934</td>\n",
       "      <td>6.201731</td>\n",
       "      <td>5.635840</td>\n",
       "      <td>5.932372</td>\n",
       "      <td>7.930012</td>\n",
       "      <td>9.537121</td>\n",
       "      <td>7.052162</td>\n",
       "      <td>5.755827</td>\n",
       "      <td>7.863456</td>\n",
       "      <td>7.863456</td>\n",
       "      <td>9.248187</td>\n",
       "      <td>5.365004</td>\n",
       "      <td>6.818892</td>\n",
       "      <td>6.273011</td>\n",
       "      <td>5.829805</td>\n",
       "      <td>0.0</td>\n",
       "      <td>5.538252</td>\n",
       "      <td>5.264894</td>\n",
       "    </tr>\n",
       "    <tr>\n",
       "      <th>18015</th>\n",
       "      <td>5.711169</td>\n",
       "      <td>5.858128</td>\n",
       "      <td>1445.0</td>\n",
       "      <td>5.079393</td>\n",
       "      <td>6.112241</td>\n",
       "      <td>5.959934</td>\n",
       "      <td>6.201731</td>\n",
       "      <td>5.635840</td>\n",
       "      <td>5.932372</td>\n",
       "      <td>5.748799</td>\n",
       "      <td>6.217729</td>\n",
       "      <td>4.828603</td>\n",
       "      <td>6.127110</td>\n",
       "      <td>3.233856</td>\n",
       "      <td>3.233856</td>\n",
       "      <td>4.096045</td>\n",
       "      <td>5.365004</td>\n",
       "      <td>4.427693</td>\n",
       "      <td>5.441233</td>\n",
       "      <td>5.506310</td>\n",
       "      <td>0.0</td>\n",
       "      <td>5.538252</td>\n",
       "      <td>5.264894</td>\n",
       "    </tr>\n",
       "    <tr>\n",
       "      <th>20912</th>\n",
       "      <td>5.711169</td>\n",
       "      <td>5.358806</td>\n",
       "      <td>1630.0</td>\n",
       "      <td>6.585940</td>\n",
       "      <td>5.495074</td>\n",
       "      <td>5.199049</td>\n",
       "      <td>5.255480</td>\n",
       "      <td>5.635840</td>\n",
       "      <td>5.932372</td>\n",
       "      <td>5.651838</td>\n",
       "      <td>4.537150</td>\n",
       "      <td>5.644812</td>\n",
       "      <td>4.464338</td>\n",
       "      <td>3.233856</td>\n",
       "      <td>3.233856</td>\n",
       "      <td>4.096045</td>\n",
       "      <td>5.365004</td>\n",
       "      <td>4.427693</td>\n",
       "      <td>6.526470</td>\n",
       "      <td>5.829805</td>\n",
       "      <td>0.0</td>\n",
       "      <td>5.538252</td>\n",
       "      <td>5.748198</td>\n",
       "    </tr>\n",
       "    <tr>\n",
       "      <th>8354</th>\n",
       "      <td>5.987589</td>\n",
       "      <td>6.704372</td>\n",
       "      <td>1047.0</td>\n",
       "      <td>5.079393</td>\n",
       "      <td>6.112241</td>\n",
       "      <td>5.959934</td>\n",
       "      <td>5.418800</td>\n",
       "      <td>4.992588</td>\n",
       "      <td>5.932372</td>\n",
       "      <td>11.396956</td>\n",
       "      <td>4.537150</td>\n",
       "      <td>12.225185</td>\n",
       "      <td>13.498370</td>\n",
       "      <td>5.036522</td>\n",
       "      <td>5.036522</td>\n",
       "      <td>4.096045</td>\n",
       "      <td>5.365004</td>\n",
       "      <td>6.492224</td>\n",
       "      <td>5.292991</td>\n",
       "      <td>5.506310</td>\n",
       "      <td>0.0</td>\n",
       "      <td>5.538252</td>\n",
       "      <td>5.264894</td>\n",
       "    </tr>\n",
       "    <tr>\n",
       "      <th>27526</th>\n",
       "      <td>5.711169</td>\n",
       "      <td>5.742333</td>\n",
       "      <td>1172.0</td>\n",
       "      <td>4.370567</td>\n",
       "      <td>5.761875</td>\n",
       "      <td>5.199049</td>\n",
       "      <td>6.201731</td>\n",
       "      <td>5.635840</td>\n",
       "      <td>5.932372</td>\n",
       "      <td>3.401292</td>\n",
       "      <td>3.947014</td>\n",
       "      <td>3.949188</td>\n",
       "      <td>2.958735</td>\n",
       "      <td>3.233856</td>\n",
       "      <td>3.233856</td>\n",
       "      <td>4.096045</td>\n",
       "      <td>6.078985</td>\n",
       "      <td>4.427693</td>\n",
       "      <td>5.441233</td>\n",
       "      <td>5.506310</td>\n",
       "      <td>0.0</td>\n",
       "      <td>5.538252</td>\n",
       "      <td>5.748198</td>\n",
       "    </tr>\n",
       "  </tbody>\n",
       "</table>\n",
       "</div>"
      ],
      "text/plain": [
       "       Hospital Service Area  Hospital County  Permanent Facility Id  \\\n",
       "77658               5.711169         5.851320                 1320.0   \n",
       "18015               5.711169         5.858128                 1445.0   \n",
       "20912               5.711169         5.358806                 1630.0   \n",
       "8354                5.987589         6.704372                 1047.0   \n",
       "27526               5.711169         5.742333                 1172.0   \n",
       "\n",
       "       Age Group  Zip Code - 3 digits    Gender      Race  Ethnicity  \\\n",
       "77658   6.585940             5.784766  5.959934  6.201731   5.635840   \n",
       "18015   5.079393             6.112241  5.959934  6.201731   5.635840   \n",
       "20912   6.585940             5.495074  5.199049  5.255480   5.635840   \n",
       "8354    5.079393             6.112241  5.959934  5.418800   4.992588   \n",
       "27526   4.370567             5.761875  5.199049  6.201731   5.635840   \n",
       "\n",
       "       Type of Admission  CCS Diagnosis Code  CCS Procedure Code  \\\n",
       "77658           5.932372            7.930012            9.537121   \n",
       "18015           5.932372            5.748799            6.217729   \n",
       "20912           5.932372            5.651838            4.537150   \n",
       "8354            5.932372           11.396956            4.537150   \n",
       "27526           5.932372            3.401292            3.947014   \n",
       "\n",
       "       APR DRG Code  APR MDC Code  APR Severity of Illness Code  \\\n",
       "77658      7.052162      5.755827                      7.863456   \n",
       "18015      4.828603      6.127110                      3.233856   \n",
       "20912      5.644812      4.464338                      3.233856   \n",
       "8354      12.225185     13.498370                      5.036522   \n",
       "27526      3.949188      2.958735                      3.233856   \n",
       "\n",
       "       APR Severity of Illness Description  APR Risk of Mortality  \\\n",
       "77658                             7.863456               9.248187   \n",
       "18015                             3.233856               4.096045   \n",
       "20912                             3.233856               4.096045   \n",
       "8354                              5.036522               4.096045   \n",
       "27526                             3.233856               4.096045   \n",
       "\n",
       "       APR Medical Surgical Description  Payment Typology 1  \\\n",
       "77658                          5.365004            6.818892   \n",
       "18015                          5.365004            4.427693   \n",
       "20912                          5.365004            4.427693   \n",
       "8354                           5.365004            6.492224   \n",
       "27526                          6.078985            4.427693   \n",
       "\n",
       "       Payment Typology 2  Payment Typology 3  Birth Weight  \\\n",
       "77658            6.273011            5.829805           0.0   \n",
       "18015            5.441233            5.506310           0.0   \n",
       "20912            6.526470            5.829805           0.0   \n",
       "8354             5.292991            5.506310           0.0   \n",
       "27526            5.441233            5.506310           0.0   \n",
       "\n",
       "       Abortion Edit Indicator  Emergency Department Indicator  \n",
       "77658                 5.538252                        5.264894  \n",
       "18015                 5.538252                        5.264894  \n",
       "20912                 5.538252                        5.748198  \n",
       "8354                  5.538252                        5.264894  \n",
       "27526                 5.538252                        5.748198  "
      ]
     },
     "execution_count": 88,
     "metadata": {},
     "output_type": "execute_result"
    }
   ],
   "source": [
    "X_train.head()"
   ]
  },
  {
   "cell_type": "code",
   "execution_count": 90,
   "metadata": {},
   "outputs": [
    {
     "name": "stderr",
     "output_type": "stream",
     "text": [
      "/home/ec2-user/anaconda3/envs/python3/lib/python3.6/site-packages/xgboost/core.py:587: FutureWarning: Series.base is deprecated and will be removed in a future version\n",
      "  if getattr(data, 'base', None) is not None and \\\n"
     ]
    }
   ],
   "source": [
    "params = {'learning_rate': 0.05,\n",
    " 'max_depth': 5,\n",
    " 'min_child_weight': 5,\n",
    " 'n_estimators': 200,\n",
    " 'objective': 'reg:linear',\n",
    " 'silent': 1,\n",
    " 'subsample': 0.7}\n",
    "\n",
    "xgbr = XGBRegressor(**params)\n",
    "model = xgbr.fit(X_train, y_train)"
   ]
  },
  {
   "cell_type": "code",
   "execution_count": 93,
   "metadata": {},
   "outputs": [],
   "source": [
    "import shap\n",
    "explainer = shap.TreeExplainer(xgbr)\n",
    "shap_values = explainer.shap_values(X_train)"
   ]
  },
  {
   "cell_type": "code",
   "execution_count": 94,
   "metadata": {},
   "outputs": [
    {
     "data": {
      "image/png": "[encoded data removed]",
      "text/plain": [
       "<Figure size 576x684 with 1 Axes>"
      ]
     },
     "metadata": {},
     "output_type": "display_data"
    }
   ],
   "source": [
    "# shap feature importance\n",
    "shap.summary_plot(shap_values, X, plot_type=\"bar\")"
   ]
  },
  {
   "cell_type": "markdown",
   "metadata": {},
   "source": [
    "# <span style=\"color:blue\">Train Big Model</span>"
   ]
  },
  {
   "cell_type": "code",
   "execution_count": null,
   "metadata": {
    "scrolled": true
   },
   "outputs": [],
   "source": [
    "# data\n",
    "X = df.drop('Length of Stay', axis=1)\n",
    "y = df['Length of Stay']\n",
    "\n",
    "X_train, X_test, y_train, y_test = train_test_split(X,y, test_size=0.1, random_state=1911)\n",
    "\n",
    "# create encoder using train to avoid leackage to test\n",
    "enc_dict = {}\n",
    "for cat in cats:\n",
    "    enc_dict[cat] = mean_dict(df.iloc[X_train.index], cat, 'Length of Stay', 100)\n",
    "\n",
    "# apply encoder\n",
    "for cat in cats:\n",
    "    X_train[cat] = X_train[cat].map(enc_dict[cat])\n",
    "\n",
    "# use model with best params\n",
    "params = {'learning_rate': 0.05,\n",
    " 'max_depth': 5,\n",
    " 'min_child_weight': 5,\n",
    " 'n_estimators': 200,\n",
    " 'objective': 'reg:linear',\n",
    " 'silent': 1,\n",
    " 'subsample': 0.7}\n",
    "\n",
    "xgbr = XGBRegressor(**params)\n",
    "model = xgbr.fit(X_train, y_train)"
   ]
  },
  {
   "cell_type": "code",
   "execution_count": 99,
   "metadata": {
    "scrolled": false
   },
   "outputs": [
    {
     "name": "stderr",
     "output_type": "stream",
     "text": [
      "/home/ec2-user/anaconda3/envs/python3/lib/python3.6/site-packages/ipykernel/__main__.py:3: SettingWithCopyWarning: \n",
      "A value is trying to be set on a copy of a slice from a DataFrame.\n",
      "Try using .loc[row_indexer,col_indexer] = value instead\n",
      "\n",
      "See the caveats in the documentation: http://pandas.pydata.org/pandas-docs/stable/indexing.html#indexing-view-versus-copy\n",
      "  app.launch_new_instance()\n"
     ]
    },
    {
     "name": "stdout",
     "output_type": "stream",
     "text": [
      "MAE:  3.286588253281486\n",
      "Mean:  5.5331669633896405\n"
     ]
    }
   ],
   "source": [
    "# encode X_test using dicionary built on X_train\n",
    "for cat in cats:\n",
    "    X_test[cat] = X_test[cat].map(enc_dict[cat])\n",
    "\n",
    "# check our mae on the holdout\n",
    "print('MAE: ', mean_absolute_error(y_test, xgb_grid.predict(X_test)))\n",
    "print('Mean: ', y_test.mean())"
   ]
  },
  {
   "cell_type": "markdown",
   "metadata": {},
   "source": [
    "## <span style=\"color:blue\">Let's see if a neural network can improve our performance</span>"
   ]
  },
  {
   "cell_type": "code",
   "execution_count": 1,
   "metadata": {
    "scrolled": true
   },
   "outputs": [
    {
     "name": "stdout",
     "output_type": "stream",
     "text": [
      "Collecting fastai\n",
      "\u001b[?25l  Downloading https://files.pythonhosted.org/packages/c1/e2/42342ded0385d694e3250e74f43f0dc9a3ff3d5c2241a2ddd98236b5f9de/fastai-1.0.57-py3-none-any.whl (233kB)\n",
      "\u001b[K    100% |████████████████████████████████| 235kB 8.2MB/s ta 0:00:01\n",
      "\u001b[?25hRequirement already satisfied: beautifulsoup4 in /home/ec2-user/anaconda3/envs/python3/lib/python3.6/site-packages (from fastai) (4.6.0)\n",
      "Requirement already satisfied: scipy in /home/ec2-user/anaconda3/envs/python3/lib/python3.6/site-packages (from fastai) (1.1.0)\n",
      "Collecting numpy>=1.15 (from fastai)\n",
      "\u001b[?25l  Downloading https://files.pythonhosted.org/packages/19/b9/bda9781f0a74b90ebd2e046fde1196182900bd4a8e1ea503d3ffebc50e7c/numpy-1.17.0-cp36-cp36m-manylinux1_x86_64.whl (20.4MB)\n",
      "\u001b[K    100% |████████████████████████████████| 20.4MB 2.0MB/s eta 0:00:01\n",
      "\u001b[?25hRequirement already satisfied: pyyaml in /home/ec2-user/anaconda3/envs/python3/lib/python3.6/site-packages (from fastai) (3.12)\n",
      "Requirement already satisfied: numexpr in /home/ec2-user/anaconda3/envs/python3/lib/python3.6/site-packages (from fastai) (2.6.5)\n",
      "Requirement already satisfied: packaging in /home/ec2-user/anaconda3/envs/python3/lib/python3.6/site-packages (from fastai) (17.1)\n",
      "Requirement already satisfied: Pillow in /home/ec2-user/anaconda3/envs/python3/lib/python3.6/site-packages (from fastai) (5.2.0)\n",
      "Collecting fastprogress>=0.1.19 (from fastai)\n",
      "  Downloading https://files.pythonhosted.org/packages/83/db/794db47024a26c75635c35f0ee5431aa8b528e895ad1ed958041290f83f7/fastprogress-0.1.21-py3-none-any.whl\n",
      "Requirement already satisfied: typing; python_version < \"3.7\" in /home/ec2-user/anaconda3/envs/python3/lib/python3.6/site-packages (from fastai) (3.6.4)\n",
      "Requirement already satisfied: bottleneck in /home/ec2-user/anaconda3/envs/python3/lib/python3.6/site-packages (from fastai) (1.2.1)\n",
      "Requirement already satisfied: pandas in /home/ec2-user/anaconda3/envs/python3/lib/python3.6/site-packages (from fastai) (0.24.2)\n",
      "Collecting nvidia-ml-py3 (from fastai)\n",
      "  Downloading https://files.pythonhosted.org/packages/6d/64/cce82bddb80c0b0f5c703bbdafa94bfb69a1c5ad7a79cff00b482468f0d3/nvidia-ml-py3-7.352.0.tar.gz\n",
      "Collecting spacy>=2.0.18 (from fastai)\n",
      "\u001b[?25l  Downloading https://files.pythonhosted.org/packages/95/9c/afd55bb35cc03e4b3dadc41dd48bc26e0678b08d59f32411735c35bda550/spacy-2.1.8-cp36-cp36m-manylinux1_x86_64.whl (30.8MB)\n",
      "\u001b[K    100% |████████████████████████████████| 30.9MB 1.1MB/s ta 0:00:011\n",
      "\u001b[?25hCollecting dataclasses; python_version < \"3.7\" (from fastai)\n",
      "  Downloading https://files.pythonhosted.org/packages/26/2f/1095cdc2868052dd1e64520f7c0d5c8c550ad297e944e641dbf1ffbb9a5d/dataclasses-0.6-py3-none-any.whl\n",
      "Collecting torch>=1.0.0 (from fastai)\n",
      "\u001b[?25l  Downloading https://files.pythonhosted.org/packages/30/57/d5cceb0799c06733eefce80c395459f28970ebb9e896846ce96ab579a3f1/torch-1.2.0-cp36-cp36m-manylinux1_x86_64.whl (748.8MB)\n",
      "\u001b[K    100% |████████████████████████████████| 748.9MB 55kB/s  eta 0:00:01  4% |█▍                              | 32.5MB 49.0MB/s eta 0:00:15    34% |███████████▏                    | 261.9MB 48.8MB/s eta 0:00:10    63% |████████████████████▎           | 474.4MB 33.5MB/s eta 0:00:09    80% |█████████████████████████▊      | 601.9MB 44.8MB/s eta 0:00:04    82% |██████████████████████████▌     | 620.9MB 45.7MB/s eta 0:00:03    97% |███████████████████████████████▎| 733.2MB 49.3MB/s eta 0:00:01\n",
      "\u001b[?25hRequirement already satisfied: matplotlib in /home/ec2-user/anaconda3/envs/python3/lib/python3.6/site-packages (from fastai) (3.0.3)\n",
      "Collecting torchvision (from fastai)\n",
      "\u001b[?25l  Downloading https://files.pythonhosted.org/packages/06/e6/a564eba563f7ff53aa7318ff6aaa5bd8385cbda39ed55ba471e95af27d19/torchvision-0.4.0-cp36-cp36m-manylinux1_x86_64.whl (8.8MB)\n",
      "\u001b[K    100% |████████████████████████████████| 8.8MB 7.0MB/s eta 0:00:01\n",
      "\u001b[?25hRequirement already satisfied: requests in /home/ec2-user/anaconda3/envs/python3/lib/python3.6/site-packages (from fastai) (2.20.0)\n",
      "Requirement already satisfied: pyparsing>=2.0.2 in /home/ec2-user/anaconda3/envs/python3/lib/python3.6/site-packages (from packaging->fastai) (2.2.0)\n",
      "Requirement already satisfied: six in /home/ec2-user/anaconda3/envs/python3/lib/python3.6/site-packages (from packaging->fastai) (1.11.0)\n",
      "Requirement already satisfied: python-dateutil>=2.5.0 in /home/ec2-user/anaconda3/envs/python3/lib/python3.6/site-packages (from pandas->fastai) (2.7.3)\n",
      "Requirement already satisfied: pytz>=2011k in /home/ec2-user/anaconda3/envs/python3/lib/python3.6/site-packages (from pandas->fastai) (2018.4)\n",
      "Collecting preshed<2.1.0,>=2.0.1 (from spacy>=2.0.18->fastai)\n",
      "\u001b[?25l  Downloading https://files.pythonhosted.org/packages/20/93/f222fb957764a283203525ef20e62008675fd0a14ffff8cc1b1490147c63/preshed-2.0.1-cp36-cp36m-manylinux1_x86_64.whl (83kB)\n",
      "\u001b[K    100% |████████████████████████████████| 92kB 33.3MB/s ta 0:00:01\n",
      "\u001b[?25hCollecting thinc<7.1.0,>=7.0.8 (from spacy>=2.0.18->fastai)\n",
      "\u001b[?25l  Downloading https://files.pythonhosted.org/packages/18/a5/9ace20422e7bb1bdcad31832ea85c52a09900cd4a7ce711246bfb92206ba/thinc-7.0.8-cp36-cp36m-manylinux1_x86_64.whl (2.1MB)\n",
      "\u001b[K    100% |████████████████████████████████| 2.1MB 6.8MB/s ta 0:00:011\n",
      "\u001b[?25hCollecting srsly<1.1.0,>=0.0.6 (from spacy>=2.0.18->fastai)\n",
      "\u001b[?25l  Downloading https://files.pythonhosted.org/packages/8c/60/0c448942ad5bd246c7abfbb7e1a1d8ec2b013f3e9a0abf180fc52b588fe4/srsly-0.1.0-cp36-cp36m-manylinux1_x86_64.whl (181kB)\n",
      "\u001b[K    100% |████████████████████████████████| 184kB 20.4MB/s ta 0:00:01\n",
      "\u001b[?25hCollecting plac<1.0.0,>=0.9.6 (from spacy>=2.0.18->fastai)\n",
      "  Downloading https://files.pythonhosted.org/packages/9e/9b/62c60d2f5bc135d2aa1d8c8a86aaf84edb719a59c7f11a4316259e61a298/plac-0.9.6-py2.py3-none-any.whl\n",
      "Collecting cymem<2.1.0,>=2.0.2 (from spacy>=2.0.18->fastai)\n",
      "  Downloading https://files.pythonhosted.org/packages/3d/61/9b0520c28eb199a4b1ca667d96dd625bba003c14c75230195f9691975f85/cymem-2.0.2-cp36-cp36m-manylinux1_x86_64.whl\n",
      "Collecting murmurhash<1.1.0,>=0.28.0 (from spacy>=2.0.18->fastai)\n",
      "  Downloading https://files.pythonhosted.org/packages/a6/e6/63f160a4fdf0e875d16b28f972083606d8d54f56cd30cb8929f9a1ee700e/murmurhash-1.0.2-cp36-cp36m-manylinux1_x86_64.whl\n",
      "Collecting wasabi<1.1.0,>=0.2.0 (from spacy>=2.0.18->fastai)\n",
      "  Downloading https://files.pythonhosted.org/packages/f4/c1/d76ccdd12c716be79162d934fe7de4ac8a318b9302864716dde940641a79/wasabi-0.2.2-py3-none-any.whl\n",
      "Collecting blis<0.3.0,>=0.2.2 (from spacy>=2.0.18->fastai)\n",
      "\u001b[?25l  Downloading https://files.pythonhosted.org/packages/34/46/b1d0bb71d308e820ed30316c5f0a017cb5ef5f4324bcbc7da3cf9d3b075c/blis-0.2.4-cp36-cp36m-manylinux1_x86_64.whl (3.2MB)\n",
      "\u001b[K    100% |████████████████████████████████| 3.2MB 15.7MB/s ta 0:00:01      | 276kB 62.3MB/s eta 0:00:01\n",
      "\u001b[?25hRequirement already satisfied: kiwisolver>=1.0.1 in /home/ec2-user/anaconda3/envs/python3/lib/python3.6/site-packages (from matplotlib->fastai) (1.0.1)\n",
      "Requirement already satisfied: cycler>=0.10 in /home/ec2-user/anaconda3/envs/python3/lib/python3.6/site-packages (from matplotlib->fastai) (0.10.0)\n",
      "Requirement already satisfied: urllib3<1.25,>=1.21.1 in /home/ec2-user/anaconda3/envs/python3/lib/python3.6/site-packages (from requests->fastai) (1.23)\n",
      "Requirement already satisfied: idna<2.8,>=2.5 in /home/ec2-user/anaconda3/envs/python3/lib/python3.6/site-packages (from requests->fastai) (2.6)\n",
      "Requirement already satisfied: certifi>=2017.4.17 in /home/ec2-user/anaconda3/envs/python3/lib/python3.6/site-packages (from requests->fastai) (2019.6.16)\n",
      "Requirement already satisfied: chardet<3.1.0,>=3.0.2 in /home/ec2-user/anaconda3/envs/python3/lib/python3.6/site-packages (from requests->fastai) (3.0.4)\n",
      "Collecting tqdm<5.0.0,>=4.10.0 (from thinc<7.1.0,>=7.0.8->spacy>=2.0.18->fastai)\n",
      "\u001b[?25l  Downloading https://files.pythonhosted.org/packages/a5/83/06029af22fe06b8a7be013aeae5e104b3ed26867e5d4ca91408b30aa602e/tqdm-4.34.0-py2.py3-none-any.whl (50kB)\n",
      "\u001b[K    100% |████████████████████████████████| 51kB 24.4MB/s ta 0:00:01\n",
      "\u001b[?25hRequirement already satisfied: setuptools in /home/ec2-user/anaconda3/envs/python3/lib/python3.6/site-packages (from kiwisolver>=1.0.1->matplotlib->fastai) (39.1.0)\n",
      "Building wheels for collected packages: nvidia-ml-py3\n",
      "  Running setup.py bdist_wheel for nvidia-ml-py3 ... \u001b[?25ldone\n",
      "\u001b[?25h  Stored in directory: /home/ec2-user/.cache/pip/wheels/e4/1d/06/640c93f5270d67d0247f30be91f232700d19023f9e66d735c7\n",
      "Successfully built nvidia-ml-py3\n",
      "Installing collected packages: numpy, fastprogress, nvidia-ml-py3, cymem, preshed, srsly, tqdm, plac, murmurhash, wasabi, blis, thinc, spacy, dataclasses, torch, torchvision, fastai\n",
      "  Found existing installation: numpy 1.14.3\n",
      "    Uninstalling numpy-1.14.3:\n",
      "      Successfully uninstalled numpy-1.14.3\n",
      "Successfully installed blis-0.2.4 cymem-2.0.2 dataclasses-0.6 fastai-1.0.57 fastprogress-0.1.21 murmurhash-1.0.2 numpy-1.17.0 nvidia-ml-py3-7.352.0 plac-0.9.6 preshed-2.0.1 spacy-2.1.8 srsly-0.1.0 thinc-7.0.8 torch-1.2.0 torchvision-0.4.0 tqdm-4.34.0 wasabi-0.2.2\n",
      "\u001b[33mYou are using pip version 10.0.1, however version 19.2.2 is available.\n",
      "You should consider upgrading via the 'pip install --upgrade pip' command.\u001b[0m\n"
     ]
    }
   ],
   "source": [
    "!pip install fastai"
   ]
  },
  {
   "cell_type": "code",
   "execution_count": 11,
   "metadata": {},
   "outputs": [],
   "source": [
    "from fastai.tabular import *"
   ]
  },
  {
   "cell_type": "code",
   "execution_count": 30,
   "metadata": {},
   "outputs": [],
   "source": [
    "tab_df = df.sample(1000000)"
   ]
  },
  {
   "cell_type": "code",
   "execution_count": 31,
   "metadata": {},
   "outputs": [],
   "source": [
    "cats = df.columns[(df.dtypes != 'float64') & (df.dtypes != 'int')].to_list()\n",
    "cats.extend(['CCS Diagnosis Code', 'CCS Procedure Code', 'APR DRG Code', \n",
    "            'APR MDC Code', 'APR Severity of Illness Code'])"
   ]
  },
  {
   "cell_type": "code",
   "execution_count": 32,
   "metadata": {},
   "outputs": [],
   "source": [
    "conts = ['Permanent Facility Id', 'Length of Stay', 'Birth Weight']"
   ]
  },
  {
   "cell_type": "code",
   "execution_count": 33,
   "metadata": {},
   "outputs": [],
   "source": [
    "dep_var = 'Length of Stay'\n",
    "cat_names = cats\n",
    "cont_names = conts\n",
    "procs = [FillMissing, Categorify, Normalize]"
   ]
  },
  {
   "cell_type": "code",
   "execution_count": 34,
   "metadata": {},
   "outputs": [],
   "source": [
    "test_df = TabularList.from_df(tab_df.iloc[750000:1000000].copy(), cat_names=cat_names, cont_names=cont_names)"
   ]
  },
  {
   "cell_type": "code",
   "execution_count": 35,
   "metadata": {},
   "outputs": [],
   "source": [
    "data = (TabularList.from_df(tab_df, cat_names=cat_names, cont_names=cont_names, procs=procs)\n",
    "                           .split_by_idx(list(range(750000,1000000)))\n",
    "                           .label_from_df(cols=dep_var, label_cls=FloatList)\n",
    "                           .add_test(test_df)\n",
    "                           .databunch())"
   ]
  },
  {
   "cell_type": "code",
   "execution_count": 40,
   "metadata": {},
   "outputs": [],
   "source": [
    "learn = tabular_learner(data, layers=[200,100], metrics=mean_absolute_error)"
   ]
  },
  {
   "cell_type": "code",
   "execution_count": 41,
   "metadata": {},
   "outputs": [
    {
     "data": {
      "text/html": [],
      "text/plain": [
       "<IPython.core.display.HTML object>"
      ]
     },
     "metadata": {},
     "output_type": "display_data"
    },
    {
     "name": "stdout",
     "output_type": "stream",
     "text": [
      "LR Finder is complete, type {learner_name}.recorder.plot() to see the graph.\n"
     ]
    },
    {
     "data": {
      "image/png": "[encoded data removed]",
      "text/plain": [
       "<Figure size 432x288 with 1 Axes>"
      ]
     },
     "metadata": {},
     "output_type": "display_data"
    }
   ],
   "source": [
    "learn.lr_find()\n",
    "learn.recorder.plot()"
   ]
  },
  {
   "cell_type": "code",
   "execution_count": 42,
   "metadata": {},
   "outputs": [
    {
     "data": {
      "text/html": [
       "<table border=\"1\" class=\"dataframe\">\n",
       "  <thead>\n",
       "    <tr style=\"text-align: left;\">\n",
       "      <th>epoch</th>\n",
       "      <th>train_loss</th>\n",
       "      <th>valid_loss</th>\n",
       "      <th>mean_absolute_error</th>\n",
       "      <th>time</th>\n",
       "    </tr>\n",
       "  </thead>\n",
       "  <tbody>\n",
       "    <tr>\n",
       "      <td>0</td>\n",
       "      <td>4.348839</td>\n",
       "      <td>5.101065</td>\n",
       "      <td>1.287625</td>\n",
       "      <td>02:55</td>\n",
       "    </tr>\n",
       "  </tbody>\n",
       "</table>"
      ],
      "text/plain": [
       "<IPython.core.display.HTML object>"
      ]
     },
     "metadata": {},
     "output_type": "display_data"
    }
   ],
   "source": [
    "learn.fit(1, 1e-2)"
   ]
  },
  {
   "cell_type": "code",
   "execution_count": 43,
   "metadata": {},
   "outputs": [
    {
     "data": {
      "text/html": [],
      "text/plain": [
       "<IPython.core.display.HTML object>"
      ]
     },
     "metadata": {},
     "output_type": "display_data"
    },
    {
     "name": "stdout",
     "output_type": "stream",
     "text": [
      "LR Finder is complete, type {learner_name}.recorder.plot() to see the graph.\n"
     ]
    },
    {
     "data": {
      "image/png": "[encoded data removed]",
      "text/plain": [
       "<Figure size 432x288 with 1 Axes>"
      ]
     },
     "metadata": {},
     "output_type": "display_data"
    }
   ],
   "source": [
    "learn.lr_find()\n",
    "learn.recorder.plot()"
   ]
  },
  {
   "cell_type": "code",
   "execution_count": 44,
   "metadata": {},
   "outputs": [
    {
     "data": {
      "text/html": [
       "<table border=\"1\" class=\"dataframe\">\n",
       "  <thead>\n",
       "    <tr style=\"text-align: left;\">\n",
       "      <th>epoch</th>\n",
       "      <th>train_loss</th>\n",
       "      <th>valid_loss</th>\n",
       "      <th>mean_absolute_error</th>\n",
       "      <th>time</th>\n",
       "    </tr>\n",
       "  </thead>\n",
       "  <tbody>\n",
       "    <tr>\n",
       "      <td>0</td>\n",
       "      <td>2.666257</td>\n",
       "      <td>1.446527</td>\n",
       "      <td>0.729386</td>\n",
       "      <td>02:54</td>\n",
       "    </tr>\n",
       "  </tbody>\n",
       "</table>"
      ],
      "text/plain": [
       "<IPython.core.display.HTML object>"
      ]
     },
     "metadata": {},
     "output_type": "display_data"
    }
   ],
   "source": [
    "learn.fit(1, 1e-6)"
   ]
  },
  {
   "cell_type": "code",
   "execution_count": 45,
   "metadata": {},
   "outputs": [
    {
     "data": {
      "text/html": [],
      "text/plain": [
       "<IPython.core.display.HTML object>"
      ]
     },
     "metadata": {},
     "output_type": "display_data"
    },
    {
     "name": "stdout",
     "output_type": "stream",
     "text": [
      "LR Finder is complete, type {learner_name}.recorder.plot() to see the graph.\n"
     ]
    },
    {
     "data": {
      "image/png": "[encoded data removed]",
      "text/plain": [
       "<Figure size 432x288 with 1 Axes>"
      ]
     },
     "metadata": {},
     "output_type": "display_data"
    }
   ],
   "source": [
    "learn.lr_find()\n",
    "learn.recorder.plot()"
   ]
  },
  {
   "cell_type": "markdown",
   "metadata": {},
   "source": [
    "### MAE of 0.73 - not bad"
   ]
  },
  {
   "cell_type": "code",
   "execution_count": 46,
   "metadata": {},
   "outputs": [
    {
     "data": {
      "text/plain": [
       "5.513024"
      ]
     },
     "execution_count": 46,
     "metadata": {},
     "output_type": "execute_result"
    }
   ],
   "source": [
    "tab_df['Length of Stay'].mean()"
   ]
  }
 ],
 "metadata": {
  "kernelspec": {
   "display_name": "Python 3",
   "language": "python",
   "name": "python3"
  },
  "language_info": {
   "codemirror_mode": {
    "name": "ipython",
    "version": 3
   },
   "file_extension": ".py",
   "mimetype": "text/x-python",
   "name": "python",
   "nbconvert_exporter": "python",
   "pygments_lexer": "ipython3",
   "version": "3.6.8"
  }
 },
 "nbformat": 4,
 "nbformat_minor": 2
}
